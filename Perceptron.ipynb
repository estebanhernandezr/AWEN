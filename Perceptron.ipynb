{
  "nbformat": 4,
  "nbformat_minor": 0,
  "metadata": {
    "colab": {
      "name": "Perceptron",
      "provenance": [],
      "collapsed_sections": [
        "WT4Dz7x3tJQM",
        "4JMKs_KttM0Y"
      ],
      "authorship_tag": "ABX9TyPw/D1elBb/b7DVwaXI/3sn",
      "include_colab_link": true
    },
    "kernelspec": {
      "name": "python3",
      "display_name": "Python 3"
    },
    "language_info": {
      "name": "python"
    }
  },
  "cells": [
    {
      "cell_type": "markdown",
      "metadata": {
        "id": "view-in-github",
        "colab_type": "text"
      },
      "source": [
        "<a href=\"https://colab.research.google.com/github/estebanhernandezr/AWEN/blob/main/Perceptron.ipynb\" target=\"_parent\"><img src=\"https://colab.research.google.com/assets/colab-badge.svg\" alt=\"Open In Colab\"/></a>"
      ]
    },
    {
      "cell_type": "code",
      "source": [
        "import numpy as np"
      ],
      "metadata": {
        "id": "SC47VjDycV6F"
      },
      "execution_count": 78,
      "outputs": []
    },
    {
      "cell_type": "markdown",
      "source": [
        "# **PERCEPTRON**"
      ],
      "metadata": {
        "id": "WT4Dz7x3tJQM"
      }
    },
    {
      "cell_type": "code",
      "execution_count": 79,
      "metadata": {
        "id": "v2CDZ4piV8ks"
      },
      "outputs": [],
      "source": [
        "class Perceptron:\n",
        "    def __init__(self, umbral=0.5, W=None):\n",
        "        self.umbral = umbral\n",
        "        self.W = W\n",
        "\n",
        "    def sum_union_func(self, x):\n",
        "        gX = np.matmul(x, self.W)\n",
        "        return gX\n",
        "\n",
        "    def threshold_func(self, val):\n",
        "        y = None\n",
        "        if val > self.umbral: y = 1\n",
        "        else: y = -1\n",
        "        return y\n",
        "\n",
        "    def train(self, X, y, learn_rate, epochs):\n",
        "        # PASO 1\n",
        "        self.W = np.zeros(X.shape[1])\n",
        "        # PASO 2\n",
        "        for iter in range(epochs):\n",
        "            for i, x in enumerate(X):\n",
        "                gX = self.sum_union_func(x)\n",
        "                yb = self.threshold_func(gX)\n",
        "\n",
        "                aux_W = [w for w in self.W]\n",
        "                for j in range(len(aux_W)):\n",
        "                    aux_W[j] = self.W[j] + (learn_rate*(y[i]-yb)*x[j])\n",
        "                self.W = [w for w in aux_W]\n",
        "        # PASO 3\n",
        "        print('¡Neuron has been trainned!')\n",
        "        return None\n",
        "\n",
        "    def predict(self, x):\n",
        "        gX = self.sum_union_func(x)\n",
        "        yb = self.threshold_func(gX)\n",
        "        return yb"
      ]
    },
    {
      "cell_type": "code",
      "source": [
        "# AND GATE\n",
        "X = np.array([\n",
        "     [0, 0],\n",
        "     [0, 1],\n",
        "     [1, 0],\n",
        "     [1, 1]\n",
        "    ])\n",
        "\n",
        "y = np.array([-1, -1, -1, 1])\n",
        "\n",
        "Perceptron_AND = Perceptron()\n",
        "Perceptron_AND.train(X, y, 0.02, 200)\n",
        "print('0 + 0 := ', Perceptron_AND.predict([0, 0]))\n",
        "print('0 + 1 := ', Perceptron_AND.predict([0, 1]))\n",
        "print('1 + 0 := ', Perceptron_AND.predict([1, 0]))\n",
        "print('1 + 1 := ', Perceptron_AND.predict([1, 1]))\n",
        "print('pesos: ', Perceptron_AND.W)"
      ],
      "metadata": {
        "colab": {
          "base_uri": "https://localhost:8080/"
        },
        "id": "6Q4vDpmZcker",
        "outputId": "3ce2e5f1-8d8d-4bad-f68f-be46660e58ae"
      },
      "execution_count": 80,
      "outputs": [
        {
          "output_type": "stream",
          "name": "stdout",
          "text": [
            "¡Neuron has been trainned!\n",
            "0 + 0 :=  -1\n",
            "0 + 1 :=  -1\n",
            "1 + 0 :=  -1\n",
            "1 + 1 :=  1\n",
            "pesos:  [0.28, 0.28]\n"
          ]
        }
      ]
    },
    {
      "cell_type": "code",
      "source": [
        "# OR GATE\n",
        "X = np.array([\n",
        "     [0, 0],\n",
        "     [0, 1],\n",
        "     [1, 0],\n",
        "     [1, 1]\n",
        "    ])\n",
        "\n",
        "y = np.array([-1, 1, 1, 1])\n",
        "\n",
        "Perceptron_OR = Perceptron()\n",
        "Perceptron_OR.train(X, y, 0.2, 100)\n",
        "print('0 + 0 :=', Perceptron_OR.predict([0, 0]))\n",
        "print('0 + 1 :=', Perceptron_OR.predict([0, 1]))\n",
        "print('1 + 0 :=', Perceptron_OR.predict([1, 0]))\n",
        "print('1 + 1 :=', Perceptron_OR.predict([1, 1]))\n",
        "print('pesos:', Perceptron_OR.W)"
      ],
      "metadata": {
        "colab": {
          "base_uri": "https://localhost:8080/"
        },
        "id": "Csur6zqIkKha",
        "outputId": "e5ad2000-c774-462a-f067-4507e188127e"
      },
      "execution_count": 81,
      "outputs": [
        {
          "output_type": "stream",
          "name": "stdout",
          "text": [
            "¡Neuron has been trainned!\n",
            "0 + 0 := -1\n",
            "0 + 1 := 1\n",
            "1 + 0 := 1\n",
            "1 + 1 := 1\n",
            "pesos: [0.8, 0.8]\n"
          ]
        }
      ]
    },
    {
      "cell_type": "markdown",
      "source": [
        "# **ADAline**"
      ],
      "metadata": {
        "id": "4JMKs_KttM0Y"
      }
    },
    {
      "cell_type": "code",
      "source": [
        "class ADAline:\n",
        "    def __init__(self, umbral=0.5, W=None):\n",
        "        self.umbral = umbral\n",
        "        self.W = W\n",
        "\n",
        "    def sum_union_func(self, x):\n",
        "        gX = np.matmul(x, self.W)\n",
        "        return gX\n",
        "\n",
        "    def threshold_func(self, val):\n",
        "        y = None\n",
        "        if val > self.umbral: y = 1\n",
        "        else: y = -1\n",
        "        return y\n",
        "\n",
        "    def train(self, X, y, learn_rate, epochs):\n",
        "        # PASO 1\n",
        "        self.W = np.zeros(X.shape[1])\n",
        "        # PASO 2\n",
        "        for iter in range(epochs):\n",
        "            ybs = []\n",
        "            for x in enumerate(X):\n",
        "                gX = self.sum_union_func(x)\n",
        "                yb = gX # self.threshold_func(gX)\n",
        "                ybs.append(yb)\n",
        "            # GRADIENTE DESCENDENTE\n",
        "            errors = y - ybs\n",
        "            self.w[1:] += learn_rate * X.T.dot(errors)\n",
        "            self.w[0] += learn_rate * errors.sum()\n",
        "        # PASO 3\n",
        "        print('¡Neuron has been trainned!')\n",
        "        return None\n",
        "\n",
        "    def predict(self, x):\n",
        "        gX = self.sum_union_func(x)\n",
        "        yb = gX # self.threshold_func(gX)\n",
        "        return yb"
      ],
      "metadata": {
        "id": "l3AAK8hztO2F"
      },
      "execution_count": 82,
      "outputs": []
    },
    {
      "cell_type": "code",
      "source": [
        "# AND GATE\n",
        "X = np.array([\n",
        "     [0, 0],\n",
        "     [0, 1],\n",
        "     [1, 0],\n",
        "     [1, 1]\n",
        "    ])\n",
        "\n",
        "y = np.array([-1, -1, -1, 1])\n",
        "\n",
        "ADAline_AND = Perceptron()\n",
        "ADAline_AND.train(X, y, 0.01, 100)\n",
        "print('0 + 0 :=', ADAline_AND.predict([0, 0]))\n",
        "print('0 + 1 :=', ADAline_AND.predict([0, 1]))\n",
        "print('1 + 0 :=', ADAline_AND.predict([1, 0]))\n",
        "print('1 + 1 :=', ADAline_AND.predict([1, 1]))\n",
        "print('pesos:', ADAline_AND.W)"
      ],
      "metadata": {
        "colab": {
          "base_uri": "https://localhost:8080/"
        },
        "id": "DAZ4wXq2sLGS",
        "outputId": "30eab99e-e9fe-4867-81b8-a881cfb6e6cd"
      },
      "execution_count": 83,
      "outputs": [
        {
          "output_type": "stream",
          "name": "stdout",
          "text": [
            "¡Neuron has been trainned!\n",
            "0 + 0 := -1\n",
            "0 + 1 := -1\n",
            "1 + 0 := -1\n",
            "1 + 1 := 1\n",
            "pesos: [0.25999999999999995, 0.25999999999999995]\n"
          ]
        }
      ]
    },
    {
      "cell_type": "code",
      "source": [
        "# OR GATE\n",
        "X = np.array([\n",
        "     [0, 0],\n",
        "     [0, 1],\n",
        "     [1, 0],\n",
        "     [1, 1]\n",
        "    ])\n",
        "\n",
        "y = np.array([-1, 1, 1, 1])\n",
        "\n",
        "ADAline_OR = Perceptron()\n",
        "ADAline_OR.train(X, y, 0.01, 100)\n",
        "print('0 + 0 :=', ADAline_OR.predict([0, 0]))\n",
        "print('0 + 1 :=', ADAline_OR.predict([0, 1]))\n",
        "print('1 + 0 :=', ADAline_OR.predict([1, 0]))\n",
        "print('1 + 1 :=', ADAline_OR.predict([1, 1]))\n",
        "print('pesos: ', ADAline_OR.W)"
      ],
      "metadata": {
        "colab": {
          "base_uri": "https://localhost:8080/"
        },
        "id": "j9VUCN79sx4Z",
        "outputId": "36190389-a4ad-4abe-ea24-97b22afaf8cb"
      },
      "execution_count": 84,
      "outputs": [
        {
          "output_type": "stream",
          "name": "stdout",
          "text": [
            "¡Neuron has been trainned!\n",
            "0 + 0 := -1\n",
            "0 + 1 := 1\n",
            "1 + 0 := 1\n",
            "1 + 1 := 1\n",
            "pesos:  [0.5000000000000001, 0.5000000000000001]\n"
          ]
        }
      ]
    }
  ]
}