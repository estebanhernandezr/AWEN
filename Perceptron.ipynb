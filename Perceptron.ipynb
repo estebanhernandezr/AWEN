{
  "nbformat": 4,
  "nbformat_minor": 0,
  "metadata": {
    "colab": {
      "name": "Perceptron",
      "provenance": [],
      "collapsed_sections": [
        "WT4Dz7x3tJQM"
      ],
      "authorship_tag": "ABX9TyPjNe18c0Z4zws7zVCQ9OvF",
      "include_colab_link": true
    },
    "kernelspec": {
      "name": "python3",
      "display_name": "Python 3"
    },
    "language_info": {
      "name": "python"
    }
  },
  "cells": [
    {
      "cell_type": "markdown",
      "metadata": {
        "id": "view-in-github",
        "colab_type": "text"
      },
      "source": [
        "<a href=\"https://colab.research.google.com/github/estebanhernandezr/AWEN/blob/master/Perceptron.ipynb\" target=\"_parent\"><img src=\"https://colab.research.google.com/assets/colab-badge.svg\" alt=\"Open In Colab\"/></a>"
      ]
    },
    {
      "cell_type": "code",
      "source": [
        "import numpy as np"
      ],
      "metadata": {
        "id": "SC47VjDycV6F"
      },
      "execution_count": 142,
      "outputs": []
    },
    {
      "cell_type": "markdown",
      "source": [
        "# **PERCEPTRON**"
      ],
      "metadata": {
        "id": "WT4Dz7x3tJQM"
      }
    },
    {
      "cell_type": "code",
      "execution_count": 143,
      "metadata": {
        "id": "v2CDZ4piV8ks"
      },
      "outputs": [],
      "source": [
        "class Perceptron:\n",
        "    def __init__(self, umbral=0.5, W=None):\n",
        "        self.umbral = umbral\n",
        "        self.W = W\n",
        "\n",
        "    def sum_union_func(self, x):\n",
        "        gX = np.matmul(x, self.W)\n",
        "        return gX\n",
        "\n",
        "    def threshold_func(self, val):\n",
        "        y = None\n",
        "        if val > self.umbral: y = 1\n",
        "        else: y = -1\n",
        "        return y\n",
        "\n",
        "    def train(self, X, y, learn_rate, epochs):\n",
        "        # PASO 1\n",
        "        self.W = np.zeros(X.shape[1])\n",
        "        # PASO 2\n",
        "        for iter in range(epochs):\n",
        "            for i, x in enumerate(X):\n",
        "                gX = self.sum_union_func(x)\n",
        "                yb = self.threshold_func(gX)\n",
        "\n",
        "                aux_W = [w for w in self.W]\n",
        "                for j in range(len(aux_W)):\n",
        "                    aux_W[j] = self.W[j] + (learn_rate*(y[i]-yb)*x[j])\n",
        "                self.W = [w for w in aux_W]\n",
        "        # PASO 3\n",
        "        print('¡Neuron has been trainned!')\n",
        "        return None\n",
        "\n",
        "    def predict(self, x):\n",
        "        gX = self.sum_union_func(x)\n",
        "        yb = self.threshold_func(gX)\n",
        "        return yb"
      ]
    },
    {
      "cell_type": "code",
      "source": [
        "# AND GATE\n",
        "X = np.array([\n",
        "     [0, 0],\n",
        "     [0, 1],\n",
        "     [1, 0],\n",
        "     [1, 1]\n",
        "    ])\n",
        "\n",
        "y = np.array([-1, -1, -1, 1])\n",
        "\n",
        "Perceptron_AND = Perceptron()\n",
        "Perceptron_AND.train(X, y, 0.02, 200)\n",
        "print('0 + 0 := ', Perceptron_AND.predict([0, 0]))\n",
        "print('0 + 1 := ', Perceptron_AND.predict([0, 1]))\n",
        "print('1 + 0 := ', Perceptron_AND.predict([1, 0]))\n",
        "print('1 + 1 := ', Perceptron_AND.predict([1, 1]))\n",
        "print('pesos: ', Perceptron_AND.W)"
      ],
      "metadata": {
        "colab": {
          "base_uri": "https://localhost:8080/"
        },
        "id": "6Q4vDpmZcker",
        "outputId": "a9c1011c-7407-49b9-8001-f258070b3878"
      },
      "execution_count": 144,
      "outputs": [
        {
          "output_type": "stream",
          "name": "stdout",
          "text": [
            "¡Neuron has been trainned!\n",
            "0 + 0 :=  -1\n",
            "0 + 1 :=  -1\n",
            "1 + 0 :=  -1\n",
            "1 + 1 :=  1\n",
            "pesos:  [0.28, 0.28]\n"
          ]
        }
      ]
    },
    {
      "cell_type": "code",
      "source": [
        "# OR GATE\n",
        "X = np.array([\n",
        "     [0, 0],\n",
        "     [0, 1],\n",
        "     [1, 0],\n",
        "     [1, 1]\n",
        "    ])\n",
        "\n",
        "y = np.array([-1, 1, 1, 1])\n",
        "\n",
        "Perceptron_OR = Perceptron()\n",
        "Perceptron_OR.train(X, y, 0.2, 100)\n",
        "print('0 + 0 :=', Perceptron_OR.predict([0, 0]))\n",
        "print('0 + 1 :=', Perceptron_OR.predict([0, 1]))\n",
        "print('1 + 0 :=', Perceptron_OR.predict([1, 0]))\n",
        "print('1 + 1 :=', Perceptron_OR.predict([1, 1]))\n",
        "print('pesos:', Perceptron_OR.W)"
      ],
      "metadata": {
        "colab": {
          "base_uri": "https://localhost:8080/"
        },
        "id": "Csur6zqIkKha",
        "outputId": "1c554f61-0c02-49d4-b9d4-c8a4b5b5d8da"
      },
      "execution_count": 145,
      "outputs": [
        {
          "output_type": "stream",
          "name": "stdout",
          "text": [
            "¡Neuron has been trainned!\n",
            "0 + 0 := -1\n",
            "0 + 1 := 1\n",
            "1 + 0 := 1\n",
            "1 + 1 := 1\n",
            "pesos: [0.8, 0.8]\n"
          ]
        }
      ]
    },
    {
      "cell_type": "markdown",
      "source": [
        "# **ADAline**"
      ],
      "metadata": {
        "id": "4JMKs_KttM0Y"
      }
    },
    {
      "cell_type": "code",
      "source": [
        "class ADAline:\n",
        "    def __init__(self, umbral=0.5, W=None):\n",
        "        self.umbral = umbral\n",
        "        self.W = W\n",
        "\n",
        "    def sum_union_func(self, x):\n",
        "        gX = np.dot(x, self.W[1:]) + self.W[0]\n",
        "        return gX\n",
        "\n",
        "    def threshold_func(self, val):\n",
        "        y = None\n",
        "        if val > self.umbral: y = 1\n",
        "        else: y = -1\n",
        "        return y\n",
        "\n",
        "    def train(self, X, y, learn_rate, epochs):\n",
        "        # PASO 1\n",
        "        self.W = np.zeros(X.shape[1]+1)\n",
        "        # PASO 2\n",
        "        for iter in range(epochs):\n",
        "            ybs = []\n",
        "            for x in X:\n",
        "                gX = self.sum_union_func(x)\n",
        "                yb = gX # self.threshold_func(gX)\n",
        "                ybs.append(yb)\n",
        "            # GRADIENTE DESCENDENTE\n",
        "            errors = y - ybs\n",
        "            self.W[0] = self.W[0] + learn_rate*errors.sum()\n",
        "            self.W[1:] = self.W[1:] + learn_rate*X.T.dot(errors)\n",
        "        # PASO 3\n",
        "        print('¡Neuron has been trainned!')\n",
        "        return None\n",
        "\n",
        "    def predict(self, x):\n",
        "        gX = self.sum_union_func(x)\n",
        "        yb = self.threshold_func(gX)\n",
        "        return yb"
      ],
      "metadata": {
        "id": "l3AAK8hztO2F"
      },
      "execution_count": 185,
      "outputs": []
    },
    {
      "cell_type": "code",
      "source": [
        "# AND GATE\n",
        "X = np.array([\n",
        "     [0, 0],\n",
        "     [0, 1],\n",
        "     [1, 0],\n",
        "     [1, 1]\n",
        "    ])\n",
        "\n",
        "y = np.array([-1, -1, -1, 1])\n",
        "\n",
        "ADAline_AND = ADAline(umbral=0)\n",
        "ADAline_AND.train(X, y, 0.2, 100)\n",
        "print('0 + 0 :=', ADAline_AND.predict([0, 0]))\n",
        "print('0 + 1 :=', ADAline_AND.predict([0, 1]))\n",
        "print('1 + 0 :=', ADAline_AND.predict([1, 0]))\n",
        "print('1 + 1 :=', ADAline_AND.predict([1, 1]))\n",
        "print('pesos:', ADAline_AND.W)"
      ],
      "metadata": {
        "colab": {
          "base_uri": "https://localhost:8080/"
        },
        "id": "DAZ4wXq2sLGS",
        "outputId": "eebe8036-b76e-49cb-8485-e58777331315"
      },
      "execution_count": 189,
      "outputs": [
        {
          "output_type": "stream",
          "name": "stdout",
          "text": [
            "¡Neuron has been trainned!\n",
            "0 + 0 := -1\n",
            "0 + 1 := -1\n",
            "1 + 0 := -1\n",
            "1 + 1 := 1\n",
            "pesos: [-1.49999804  0.99999834  0.99999834]\n"
          ]
        }
      ]
    },
    {
      "cell_type": "code",
      "source": [
        "# OR GATE\n",
        "X = np.array([\n",
        "     [0, 0],\n",
        "     [0, 1],\n",
        "     [1, 0],\n",
        "     [1, 1]\n",
        "    ])\n",
        "\n",
        "y = np.array([-1, 1, 1, 1])\n",
        "\n",
        "ADAline_OR = ADAline(umbral=0)\n",
        "ADAline_OR.train(X, y, 0.2, 100)\n",
        "print('0 + 0 :=', ADAline_OR.predict([0, 0]))\n",
        "print('0 + 1 :=', ADAline_OR.predict([0, 1]))\n",
        "print('1 + 0 :=', ADAline_OR.predict([1, 0]))\n",
        "print('1 + 1 :=', ADAline_OR.predict([1, 1]))\n",
        "print('pesos: ', ADAline_OR.W)"
      ],
      "metadata": {
        "colab": {
          "base_uri": "https://localhost:8080/"
        },
        "id": "j9VUCN79sx4Z",
        "outputId": "fb8b6bd3-321e-4024-e648-9a574bb063fd"
      },
      "execution_count": 198,
      "outputs": [
        {
          "output_type": "stream",
          "name": "stdout",
          "text": [
            "¡Neuron has been trainned!\n",
            "0 + 0 := -1\n",
            "0 + 1 := 1\n",
            "1 + 0 := 1\n",
            "1 + 1 := 1\n",
            "pesos:  [-0.49999865  0.99999886  0.99999886]\n"
          ]
        }
      ]
    },
    {
      "cell_type": "code",
      "source": [
        "# NOR GATE\n",
        "X = np.array([\n",
        "     [0, 0],\n",
        "     [0, 1],\n",
        "     [1, 0],\n",
        "     [1, 1]\n",
        "    ])\n",
        "\n",
        "y = np.array([1, -1, -1, -1])\n",
        "\n",
        "ADAline_NOR = ADAline(umbral=0)\n",
        "ADAline_NOR.train(X, y, 0.2, 100)\n",
        "print('0 + 0 :=', ADAline_NOR.predict([0, 0]))\n",
        "print('0 + 1 :=', ADAline_NOR.predict([0, 1]))\n",
        "print('1 + 0 :=', ADAline_NOR.predict([1, 0]))\n",
        "print('1 + 1 :=', ADAline_NOR.predict([1, 1]))\n",
        "print('pesos: ', ADAline_NOR.W)"
      ],
      "metadata": {
        "colab": {
          "base_uri": "https://localhost:8080/"
        },
        "id": "9kQYo7R2nTLF",
        "outputId": "c0cb4c72-8ecc-49b3-f199-03800323e5fa"
      },
      "execution_count": 201,
      "outputs": [
        {
          "output_type": "stream",
          "name": "stdout",
          "text": [
            "¡Neuron has been trainned!\n",
            "0 + 0 := 1\n",
            "0 + 1 := -1\n",
            "1 + 0 := -1\n",
            "1 + 1 := -1\n",
            "pesos:  [ 0.49999865 -0.99999886 -0.99999886]\n"
          ]
        }
      ]
    },
    {
      "cell_type": "code",
      "source": [
        "# NAND GATE\n",
        "X = np.array([\n",
        "     [0, 0],\n",
        "     [0, 1],\n",
        "     [1, 0],\n",
        "     [1, 1]\n",
        "    ])\n",
        "\n",
        "y = np.array([1, 1, 1, -1])\n",
        "\n",
        "ADAline_NAND = ADAline(umbral=0)\n",
        "ADAline_NAND.train(X, y, 0.2, 100)\n",
        "print('0 + 0 :=', ADAline_NAND.predict([0, 0]))\n",
        "print('0 + 1 :=', ADAline_NAND.predict([0, 1]))\n",
        "print('1 + 0 :=', ADAline_NAND.predict([1, 0]))\n",
        "print('1 + 1 :=', ADAline_NAND.predict([1, 1]))\n",
        "print('pesos: ', ADAline_NAND.W)"
      ],
      "metadata": {
        "colab": {
          "base_uri": "https://localhost:8080/"
        },
        "id": "t8LNOYZOnsLU",
        "outputId": "dff22f4c-ec13-4b77-cdff-c3e6c4f0992b"
      },
      "execution_count": 202,
      "outputs": [
        {
          "output_type": "stream",
          "name": "stdout",
          "text": [
            "¡Neuron has been trainned!\n",
            "0 + 0 := 1\n",
            "0 + 1 := 1\n",
            "1 + 0 := 1\n",
            "1 + 1 := -1\n",
            "pesos:  [ 1.49999804 -0.99999834 -0.99999834]\n"
          ]
        }
      ]
    }
  ]
}