{
  "nbformat": 4,
  "nbformat_minor": 0,
  "metadata": {
    "colab": {
      "name": "Perceptron",
      "provenance": [],
      "collapsed_sections": [
        "WT4Dz7x3tJQM"
      ],
      "authorship_tag": "ABX9TyN07wpfdexlA0BJK1Qg3EHN",
      "include_colab_link": true
    },
    "kernelspec": {
      "name": "python3",
      "display_name": "Python 3"
    },
    "language_info": {
      "name": "python"
    }
  },
  "cells": [
    {
      "cell_type": "markdown",
      "metadata": {
        "id": "view-in-github",
        "colab_type": "text"
      },
      "source": [
        "<a href=\"https://colab.research.google.com/github/estebanhernandezr/AWEN/blob/main/Perceptron.ipynb\" target=\"_parent\"><img src=\"https://colab.research.google.com/assets/colab-badge.svg\" alt=\"Open In Colab\"/></a>"
      ]
    },
    {
      "cell_type": "code",
      "source": [
        "import numpy as np"
      ],
      "metadata": {
        "id": "SC47VjDycV6F"
      },
      "execution_count": 33,
      "outputs": []
    },
    {
      "cell_type": "markdown",
      "source": [
        "# **PERCEPTRON**"
      ],
      "metadata": {
        "id": "WT4Dz7x3tJQM"
      }
    },
    {
      "cell_type": "code",
      "execution_count": 34,
      "metadata": {
        "id": "v2CDZ4piV8ks"
      },
      "outputs": [],
      "source": [
        "class Perceptron:\n",
        "    def __init__(self, umbral=0.5, W=None):\n",
        "        self.umbral = umbral\n",
        "        self.W = W\n",
        "\n",
        "    def sum_union_func(self, x):\n",
        "        gX = np.matmul(x, self.W)\n",
        "        return gX\n",
        "\n",
        "    def threshold_func(self, val):\n",
        "        y = None\n",
        "        if val > self.umbral: y = 1\n",
        "        else: y = -1\n",
        "        return y\n",
        "\n",
        "    def train(self, X, y, learn_rate, epochs):\n",
        "        # PASO 1\n",
        "        self.W = np.zeros(X.shape[1])\n",
        "        # PASO 2\n",
        "        for iter in range(epochs):\n",
        "            for i, x in enumerate(X):\n",
        "                gX = self.sum_union_func(x)\n",
        "                yb = self.threshold_func(gX)\n",
        "\n",
        "                aux_W = [w for w in self.W]\n",
        "                for j in range(len(aux_W)):\n",
        "                    aux_W[j] = self.W[j] + (learn_rate*(y[i]-yb)*x[j])\n",
        "                self.W = [w for w in aux_W]\n",
        "        # PASO 3\n",
        "        print('¡Neuron has been trainned!')\n",
        "        return None\n",
        "\n",
        "    def predict(self, x):\n",
        "        gX = self.sum_union_func(x)\n",
        "        yb = self.threshold_func(gX)\n",
        "        return yb"
      ]
    },
    {
      "cell_type": "code",
      "source": [
        "# AND GATE\n",
        "X = np.array([\n",
        "     [0, 0],\n",
        "     [0, 1],\n",
        "     [1, 0],\n",
        "     [1, 1]\n",
        "    ])\n",
        "\n",
        "y = np.array([-1, -1, -1, 1])\n",
        "\n",
        "Perceptron_AND = Perceptron()\n",
        "Perceptron_AND.train(X, y, 0.02, 200)\n",
        "print('0 + 0 := ', Perceptron_AND.predict([0, 0]))\n",
        "print('0 + 1 := ', Perceptron_AND.predict([0, 1]))\n",
        "print('1 + 0 := ', Perceptron_AND.predict([1, 0]))\n",
        "print('1 + 1 := ', Perceptron_AND.predict([1, 1]))"
      ],
      "metadata": {
        "colab": {
          "base_uri": "https://localhost:8080/"
        },
        "id": "6Q4vDpmZcker",
        "outputId": "626e2466-381c-47f4-cb2f-92387c787b35"
      },
      "execution_count": 35,
      "outputs": [
        {
          "output_type": "stream",
          "name": "stdout",
          "text": [
            "¡Neuron has been trainned!\n",
            "0 + 0 :=  -1\n",
            "0 + 1 :=  -1\n",
            "1 + 0 :=  -1\n",
            "1 + 1 :=  1\n"
          ]
        }
      ]
    },
    {
      "cell_type": "code",
      "source": [
        "# OR GATE\n",
        "X = np.array([\n",
        "     [0, 0],\n",
        "     [0, 1],\n",
        "     [1, 0],\n",
        "     [1, 1]\n",
        "    ])\n",
        "\n",
        "y = np.array([-1, 1, 1, 1])\n",
        "\n",
        "Perceptron_OR = Perceptron()\n",
        "Perceptron_OR.train(X, y, 0.2, 100)\n",
        "print('0 + 0 :=', Perceptron_OR.predict([0, 0]))\n",
        "print('0 + 1 :=', Perceptron_OR.predict([0, 1]))\n",
        "print('1 + 0 :=', Perceptron_OR.predict([1, 0]))\n",
        "print('1 + 1 :=', Perceptron_OR.predict([1, 1]))"
      ],
      "metadata": {
        "colab": {
          "base_uri": "https://localhost:8080/"
        },
        "id": "Csur6zqIkKha",
        "outputId": "52176d23-8c2b-4197-9b91-28a9baed1b1b"
      },
      "execution_count": 45,
      "outputs": [
        {
          "output_type": "stream",
          "name": "stdout",
          "text": [
            "¡Neuron has been trainned!\n",
            "0 + 0 := -1\n",
            "0 + 1 := 1\n",
            "1 + 0 := 1\n",
            "1 + 1 := 1\n"
          ]
        }
      ]
    },
    {
      "cell_type": "code",
      "source": [
        "# XOR GATE\n",
        "X = np.array([\n",
        "     [0, 0],\n",
        "     [0, 1],\n",
        "     [1, 0],\n",
        "     [1, 1]\n",
        "    ])\n",
        "\n",
        "y = np.array([0, 1, 1, 0])\n",
        "\n",
        "Perceptron_XOR = Perceptron()\n",
        "Perceptron_XOR.train(X, y, 0.01, 100)\n",
        "Perceptron_XOR.predict([0, 1])"
      ],
      "metadata": {
        "colab": {
          "base_uri": "https://localhost:8080/"
        },
        "id": "XdtLPzOZkxz3",
        "outputId": "34be02ba-ecce-4062-df94-1d59a858a368"
      },
      "execution_count": 37,
      "outputs": [
        {
          "output_type": "stream",
          "name": "stdout",
          "text": [
            "¡Neuron has been trainned!\n"
          ]
        },
        {
          "output_type": "execute_result",
          "data": {
            "text/plain": [
              "1"
            ]
          },
          "metadata": {},
          "execution_count": 37
        }
      ]
    },
    {
      "cell_type": "markdown",
      "source": [
        "# **ADAline**"
      ],
      "metadata": {
        "id": "4JMKs_KttM0Y"
      }
    },
    {
      "cell_type": "code",
      "source": [
        "class ADAline:\n",
        "    def __init__(self, umbral=0.5, W=None):\n",
        "        self.umbral = umbral\n",
        "        self.W = W\n",
        "\n",
        "    def sum_union_func(self, x):\n",
        "        gX = np.matmul(x, self.W)\n",
        "        return gX\n",
        "\n",
        "    def threshold_func(self, val):\n",
        "        y = None\n",
        "        if val > self.umbral: y = 1\n",
        "        else: y = -1\n",
        "        return y\n",
        "\n",
        "    def train(self, X, y, learn_rate, epochs):\n",
        "        # PASO 1\n",
        "        self.W = np.zeros(X.shape[1])\n",
        "        # PASO 2\n",
        "        for iter in range(epochs):\n",
        "            ybs = []\n",
        "            for x in enumerate(X):\n",
        "                gX = self.sum_union_func(x)\n",
        "                yb = gX # self.threshold_func(gX)\n",
        "                ybs.append(yb)\n",
        "            \n",
        "            errors = y - ybs\n",
        "            self.w[1:] += self.learn_rate * X.T.dot(errors)\n",
        "            self.w[0] += self.learn_rate * errors.sum()\n",
        "        # PASO 3\n",
        "        print('¡Neuron has been trainned!')\n",
        "        return None\n",
        "\n",
        "    def predict(self, x):\n",
        "        gX = self.sum_union_func(x)\n",
        "        yb = gX # self.threshold_func(gX)\n",
        "        return yb"
      ],
      "metadata": {
        "id": "l3AAK8hztO2F"
      },
      "execution_count": 46,
      "outputs": []
    },
    {
      "cell_type": "code",
      "source": [
        "# AND GATE\n",
        "X = np.array([\n",
        "     [0, 0],\n",
        "     [0, 1],\n",
        "     [1, 0],\n",
        "     [1, 1]\n",
        "    ])\n",
        "\n",
        "y = np.array([-1, -1, -1, 1])\n",
        "\n",
        "ADAline_XOR = Perceptron()\n",
        "ADAline_XOR.train(X, y, 0.01, 100)\n",
        "ADAline_XOR.predict([0, 0])"
      ],
      "metadata": {
        "colab": {
          "base_uri": "https://localhost:8080/"
        },
        "id": "DAZ4wXq2sLGS",
        "outputId": "77d2c23f-fe3f-4091-d809-7f5448c80155"
      },
      "execution_count": 50,
      "outputs": [
        {
          "output_type": "stream",
          "name": "stdout",
          "text": [
            "¡Neuron has been trainned!\n"
          ]
        },
        {
          "output_type": "execute_result",
          "data": {
            "text/plain": [
              "-1"
            ]
          },
          "metadata": {},
          "execution_count": 50
        }
      ]
    },
    {
      "cell_type": "code",
      "source": [
        "# AND GATE\n",
        "X = np.array([\n",
        "     [0, 0],\n",
        "     [0, 1],\n",
        "     [1, 0],\n",
        "     [1, 1]\n",
        "    ])\n",
        "\n",
        "y = np.array([-1, 1, 1, 1])\n",
        "\n",
        "ADAline_XOR = Perceptron()\n",
        "ADAline_XOR.train(X, y, 0.01, 100)\n",
        "ADAline_XOR.predict([1, 1])"
      ],
      "metadata": {
        "colab": {
          "base_uri": "https://localhost:8080/"
        },
        "id": "j9VUCN79sx4Z",
        "outputId": "ac54d192-2590-45ed-9bf4-f79ee303ad8b"
      },
      "execution_count": 44,
      "outputs": [
        {
          "output_type": "stream",
          "name": "stdout",
          "text": [
            "¡Neuron has been trainned!\n"
          ]
        },
        {
          "output_type": "execute_result",
          "data": {
            "text/plain": [
              "1"
            ]
          },
          "metadata": {},
          "execution_count": 44
        }
      ]
    }
  ]
}