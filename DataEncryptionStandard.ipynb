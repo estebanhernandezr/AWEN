{
  "nbformat": 4,
  "nbformat_minor": 0,
  "metadata": {
    "colab": {
      "name": "DataEncryptionStandard",
      "provenance": [],
      "collapsed_sections": [],
      "include_colab_link": true
    },
    "kernelspec": {
      "name": "python3",
      "display_name": "Python 3"
    },
    "language_info": {
      "name": "python"
    }
  },
  "cells": [
    {
      "cell_type": "markdown",
      "metadata": {
        "id": "view-in-github",
        "colab_type": "text"
      },
      "source": [
        "<a href=\"https://colab.research.google.com/github/estebanhernandezr/AWEN/blob/main/DataEncryptionStandard.ipynb\" target=\"_parent\"><img src=\"https://colab.research.google.com/assets/colab-badge.svg\" alt=\"Open In Colab\"/></a>"
      ]
    },
    {
      "cell_type": "markdown",
      "source": [
        "Funciones auxiliares ..."
      ],
      "metadata": {
        "id": "Q9ysgeMLpFMi"
      }
    },
    {
      "cell_type": "code",
      "source": [
        "def XOR_bit(p, q):\n",
        "    if p == 0 and q == 0:\n",
        "        return 0\n",
        "    elif p == 0 and q == 1:\n",
        "        return 1\n",
        "    elif p == 1 and q == 0:\n",
        "        return 1\n",
        "    else:\n",
        "        return 0\n",
        "\n",
        "def XOR_cad(s, t):\n",
        "    cad = []\n",
        "    for i in range(len(s)):\n",
        "        cad.append(XOR_bit(s[i], t[i]))\n",
        "    return cad\n",
        "\n",
        "def dec2bin(n, e):\n",
        "    bin = [0 for i in range(e)]\n",
        "    m=n\n",
        "    idx = 0\n",
        "    while m >= 1:\n",
        "        bin[idx] = (m%2)\n",
        "        m = int(m/2)\n",
        "        idx += 1\n",
        "    bin.reverse()\n",
        "    return bin\n",
        "\n",
        "def bin2dec(bits):\n",
        "    bits.reverse()\n",
        "    dec = 0\n",
        "    exp = 0\n",
        "    for i in range(len(bits)):\n",
        "        dec += bits[i]*(2**(exp))\n",
        "        exp += 1\n",
        "    return dec"
      ],
      "metadata": {
        "id": "s0YyVinQ-dZy"
      },
      "execution_count": 122,
      "outputs": []
    },
    {
      "cell_type": "markdown",
      "source": [
        "Clase DES ..."
      ],
      "metadata": {
        "id": "dAb_mWdNpKWV"
      }
    },
    {
      "cell_type": "code",
      "execution_count": 123,
      "metadata": {
        "id": "tbVUhRBX8L94"
      },
      "outputs": [],
      "source": [
        "class DES:\n",
        "    S1 = [\n",
        "          [14, 4, 13, 1, 2, 15,\t11,\t8, 3, 10,\t6, 12, 5, 9, 0, 7],\n",
        "          [0,\t15, 7, 4,\t14,\t2, 13, 1,\t10,\t6, 12, 11, 9, 5, 3, 8],\n",
        "          [4,\t1, 14, 8,\t13,\t6, 2,\t11,\t15,\t12,\t9, 7, 3, 10, 5, 0],\n",
        "          [15, 12, 8,\t2, 4, 9, 1, 7, 5, 11,\t3, 14, 10, 0, 6, 13]  \n",
        "         ]\n",
        "\n",
        "    S2 = [\n",
        "          [15, 1,\t8, 14, 6, 11,\t3, 4,\t9, 7,\t2, 13, 12, 0,\t5, 10],\n",
        "          [3,\t13,\t4, 7,\t15,\t2, 8,\t14,\t12,\t0, 1,\t10,\t6, 9,\t11,\t5],\n",
        "          [0,\t14,\t7, 11, 10, 4,\t13,\t1, 5,\t8, 12, 6,\t9, 3,\t2, 15],\n",
        "          [13, 8, 10,\t1, 3, 15,\t4, 2, 11,\t6, 7,\t12,\t0, 5, 14,\t9]\n",
        "         ]\n",
        "\n",
        "    S3 = [\n",
        "          [10, 0,\t9, 14, 6,\t3, 15, 5,\t1, 13, 12, 7,\t11,\t4, 2, 8],\n",
        "          [13, 7,\t0, 9,\t3, 4,\t6, 10, 2,\t8, 5,\t14,\t12,\t11,\t15,\t1],\n",
        "          [13, 6,\t4, 9,\t8, 15, 3,\t0, 11, 1,\t2, 12, 5,\t10,\t14,\t7],\n",
        "          [1,\t10,\t13,\t0, 6,\t9, 8,\t7, 4,\t15,\t14,\t3, 11, 5,\t2, 12]\n",
        "         ] \n",
        "    S4 = [\n",
        "          [7,\t13,\t14,\t3, 0,\t6, 9,\t10,\t1, 2,\t8, 5,\t11,\t12,\t4, 15],\n",
        "          [13, 8,\t11,\t5, 6,\t15,\t0, 3,\t4, 7,\t2, 12, 1,\t10,\t14,\t9],\n",
        "          [10, 6,\t9, 0, 12,\t11,\t7, 13, 15, 1,\t3, 14, 5,\t2, 8,\t4],\n",
        "          [3,\t15,\t0, 6,\t10,\t1, 13, 8,\t9, 4,\t5, 11, 12, 7,\t2, 14] \n",
        "         ]\n",
        "    S5 = [\n",
        "          [2, 12, 4, 1, 7, 10, 11, 6, 8, 5, 3, 15, 13, 0, 14, 9],\n",
        "          [14, 11, 2, 12, 4, 7, 13, 1, 5, 0, 15, 10, 3, 9, 8, 6],\n",
        "          [4, 2, 1, 11, 10, 13, 7, 8, 15, 9, 12, 5, 6, 3, 0, 14],\n",
        "          [11, 8, 12, 7, 1, 14, 2, 13, 6, 15, 0, 9, 10, 4, 5, 3]\n",
        "         ]\n",
        "    S6 = [\n",
        "          [12, 1, 10, 15, 9, 2, 6, 8, 0, 13, 3, 4, 14, 7, 5, 11],\n",
        "          [10, 15, 4, 2, 7, 12, 9, 5, 6, 1, 13, 14, 0, 11, 3, 8],\n",
        "          [9, 14, 15, 5, 2, 8, 12, 3, 7, 0, 4, 10, 1, 13, 11, 6],\n",
        "          [4, 3, 2, 12, 9, 5, 15, 10, 11, 14, 1, 7, 6, 0, 8, 13]\n",
        "         ]\n",
        "    S7 = [\n",
        "          [4, 11, 2, 14, 15, 0, 8, 13, 3, 12, 9, 7, 5, 10, 6, 1],\n",
        "          [13, 0, 11, 7, 4, 9, 1, 10, 14, 3, 5, 12, 2, 15, 8, 6],\n",
        "          [1, 4, 11, 13, 12, 3, 7, 14, 10, 15, 6, 8, 0, 5, 9, 2],\n",
        "          [6, 11, 13, 8, 1, 4, 10, 7, 9, 5, 0, 15, 14, 2, 3, 12]\n",
        "         ]\n",
        "    S8 = [\n",
        "          [13, 2, 8, 4, 6, 15, 11, 1, 10, 9, 3, 14, 5, 0, 12, 7],\n",
        "          [1, 15, 13, 8, 10, 3, 7, 4, 12, 5, 6, 11, 0, 14, 9, 2],\n",
        "          [7, 11, 4, 1, 9, 12, 14, 2, 0, 6, 10, 13, 15, 3, 5, 8],\n",
        "          [2, 1, 14, 7, 4, 10, 8, 13, 15, 12, 9, 0, 3, 5, 6, 11]\n",
        "         ]\n",
        "\n",
        "    def __init__(self, bit48):\n",
        "        self.__key = bit48\n",
        "    \n",
        "    def round(self, bit64):\n",
        "        bit32_izq = bit64[: 32]\n",
        "        bit32_der = bit64[32 :]\n",
        "        bit32_xor = XOR_cad(bit32_izq, self.F(bit32_der))\n",
        "        return (bit32_der + bit32_xor)\n",
        "\n",
        "    def F(self, bit32):\n",
        "        bit48 = self.expansion(bit32)\n",
        "        bit48_xor = XOR_cad(bit48, self.__key)\n",
        "        bit32_sbox = self.s_box(bit48_xor)\n",
        "        return bit32_sbox\n",
        "\n",
        "    def s_box(self, bit48):\n",
        "        s1 = dec2bin(DES.S1[bin2dec([bit48[0], bit48[5]])][bin2dec(bit48[1:4])], 4)\n",
        "        s2 = dec2bin(DES.S2[bin2dec([bit48[6], bit48[11]])][bin2dec(bit48[7:10])], 4)\n",
        "        s3 = dec2bin(DES.S3[bin2dec([bit48[12], bit48[17]])][bin2dec(bit48[13:16])], 4)\n",
        "        s4 = dec2bin(DES.S4[bin2dec([bit48[18], bit48[23]])][bin2dec(bit48[19:22])], 4)\n",
        "        s5 = dec2bin(DES.S5[bin2dec([bit48[24], bit48[29]])][bin2dec(bit48[25:28])], 4)\n",
        "        s6 = dec2bin(DES.S6[bin2dec([bit48[30], bit48[35]])][bin2dec(bit48[31:34])], 4)\n",
        "        s7 = dec2bin(DES.S7[bin2dec([bit48[36], bit48[41]])][bin2dec(bit48[37:40])], 4)\n",
        "        s8 = dec2bin(DES.S8[bin2dec([bit48[42], bit48[47]])][bin2dec(bit48[43:46])], 4)\n",
        "        return (s1+s2+s3+s4+s5+s6+s7+s8)\n",
        "\n",
        "    def expansion(self, bit32):\n",
        "        bit48 = []\n",
        "        for i in range(0, 48, 1):\n",
        "            bit48.append(0)\n",
        "            \n",
        "        bit48[0] = bit32[31]\n",
        "        bit48[1] = bit32[0]\n",
        "        bit48[2] = bit32[1]\n",
        "        bit48[3] = bit32[2]\n",
        "        bit48[4] = bit32[3]\n",
        "        bit48[5] = bit32[4]\n",
        "        bit48[6] = bit32[3]\n",
        "        bit48[7] = bit32[4]\n",
        "        bit48[8] = bit32[5]\n",
        "        bit48[9] = bit32[6]\n",
        "        bit48[10] = bit32[7]\n",
        "        bit48[11] = bit32[8]\n",
        "        bit48[12] = bit32[7]\n",
        "        bit48[13] = bit32[8]\n",
        "        bit48[14] = bit32[9]\n",
        "        bit48[15] = bit32[10]\n",
        "        bit48[16] = bit32[11]\n",
        "        bit48[17] = bit32[12]\n",
        "        bit48[18] = bit32[11]\n",
        "        bit48[19] = bit32[12]\n",
        "        bit48[20] = bit32[13]\n",
        "        bit48[21] = bit32[14]\n",
        "        bit48[22] = bit32[15]\n",
        "        bit48[23] = bit32[16]\n",
        "        bit48[24] = bit32[15]\n",
        "        bit48[25] = bit32[16]\n",
        "        bit48[26] = bit32[17]\n",
        "        bit48[27] = bit32[18]\n",
        "        bit48[28] = bit32[19]\n",
        "        bit48[29] = bit32[20]\n",
        "        bit48[30] = bit32[19]\n",
        "        bit48[31] = bit32[20]\n",
        "        bit48[32] = bit32[21]\n",
        "        bit48[33] = bit32[22]\n",
        "        bit48[34] = bit32[23]\n",
        "        bit48[35] = bit32[24]\n",
        "        bit48[36] = bit32[23]\n",
        "        bit48[37] = bit32[24]\n",
        "        bit48[38] = bit32[25]\n",
        "        bit48[39] = bit32[26]\n",
        "        bit48[40] = bit32[27]\n",
        "        bit48[41] = bit32[29]\n",
        "        bit48[42] = bit32[27]\n",
        "        bit48[43] = bit32[28]\n",
        "        bit48[44] = bit32[29]\n",
        "        bit48[45] = bit32[30]\n",
        "        bit48[46] = bit32[31]\n",
        "        bit48[47] = bit32[0]\n",
        "        return bit48"
      ]
    },
    {
      "cell_type": "markdown",
      "source": [
        "Inicialización del encriptador ..."
      ],
      "metadata": {
        "id": "_SLpOi6pplGY"
      }
    },
    {
      "cell_type": "code",
      "source": [
        "key = [0, 0, 1, 1, 1, 1, 1, 0, 1, 1, 0, 1, 1, 0, 0, 0, 0, 1, 1, 0, 1, 1, 0, 0, 0, 0, 1, 1, 0, 1, 0, 0, 0, 1, 0, 1, 1, 0, 1, 1, 0, 0, 0, 0, 0, 0, 0, 1]\n",
        "txt = [1, 1, 1, 1, 0, 0, 1, 0, 1, 1, 0, 0, 1, 1, 0, 1, 0, 0, 1, 0, 0, 1, 1, 1, 1, 0, 0, 1, 0, 0, 1, 0, 0, 1, 0, 0, 1, 0, 0, 1, 0, 0, 1, 1, 1, 1, 0, 0, 1, 0, 1, 0, 1, 1, 1, 1, 1, 1, 0, 1, 1, 1, 0, 1]\n",
        "\n",
        "des = DES(key)"
      ],
      "metadata": {
        "id": "ut7r26r0-hcO"
      },
      "execution_count": 124,
      "outputs": []
    },
    {
      "cell_type": "markdown",
      "source": [
        "Cifrado ..."
      ],
      "metadata": {
        "id": "ktslLIOApgQu"
      }
    },
    {
      "cell_type": "code",
      "source": [
        "txt_cif = des.round(txt)"
      ],
      "metadata": {
        "id": "AoHtSWsKpaGt"
      },
      "execution_count": 125,
      "outputs": []
    },
    {
      "cell_type": "markdown",
      "source": [
        "Descifrado ..."
      ],
      "metadata": {
        "id": "hEWNoHCOpZeC"
      }
    },
    {
      "cell_type": "code",
      "source": [
        "bit32_izq_cif = txt_cif[:32]\n",
        "bit32_der_cif  = txt_cif[32:]\n",
        "\n",
        "txt_def = des.round(bit32_der_cif + bit32_izq_cif)\n",
        "\n",
        "txt_izq = txt_def[:32]\n",
        "txt_der = txt_def[32:]\n",
        "\n",
        "txt_rec = txt_der +txt_izq"
      ],
      "metadata": {
        "id": "-vsHYtqVKe2-"
      },
      "execution_count": 126,
      "outputs": []
    },
    {
      "cell_type": "markdown",
      "source": [
        "Output ..."
      ],
      "metadata": {
        "id": "l6Y5OtPUp1kj"
      }
    },
    {
      "cell_type": "code",
      "source": [
        "print(\"Texto cifrado:\", txt_cif)\n",
        "\n",
        "print(\"\\nLongitud del texto cifrado:\", len(txt_cif))\n",
        "\n",
        "print(\"\\nTexto recuperado:\", txt_rec)\n",
        "\n",
        "print(\"\\nTexto ingresado :\", txt)\n",
        "\n",
        "print(\"\\nCoincidencia:\", txt_rec == txt)"
      ],
      "metadata": {
        "colab": {
          "base_uri": "https://localhost:8080/"
        },
        "id": "xnfv7GXJNTQp",
        "outputId": "7b71d69c-2021-4a2b-cf7a-553a0cf573d9"
      },
      "execution_count": 127,
      "outputs": [
        {
          "output_type": "stream",
          "name": "stdout",
          "text": [
            "Texto cifrado: [0, 1, 0, 0, 1, 0, 0, 1, 0, 0, 1, 1, 1, 1, 0, 0, 1, 0, 1, 0, 1, 1, 1, 1, 1, 1, 0, 1, 1, 1, 0, 1, 1, 1, 1, 0, 0, 0, 0, 0, 1, 1, 0, 0, 0, 0, 1, 0, 1, 0, 0, 1, 0, 0, 0, 1, 0, 0, 0, 0, 1, 0, 1, 0]\n",
            "\n",
            "Longitud del texto cifrado: 64\n",
            "\n",
            "Texto recuperado: [1, 1, 1, 1, 0, 0, 1, 0, 1, 1, 0, 0, 1, 1, 0, 1, 0, 0, 1, 0, 0, 1, 1, 1, 1, 0, 0, 1, 0, 0, 1, 0, 0, 1, 0, 0, 1, 0, 0, 1, 0, 0, 1, 1, 1, 1, 0, 0, 1, 0, 1, 0, 1, 1, 1, 1, 1, 1, 0, 1, 1, 1, 0, 1]\n",
            "\n",
            "Texto ingresado : [1, 1, 1, 1, 0, 0, 1, 0, 1, 1, 0, 0, 1, 1, 0, 1, 0, 0, 1, 0, 0, 1, 1, 1, 1, 0, 0, 1, 0, 0, 1, 0, 0, 1, 0, 0, 1, 0, 0, 1, 0, 0, 1, 1, 1, 1, 0, 0, 1, 0, 1, 0, 1, 1, 1, 1, 1, 1, 0, 1, 1, 1, 0, 1]\n",
            "\n",
            "Coincidencia: True\n"
          ]
        }
      ]
    }
  ]
}