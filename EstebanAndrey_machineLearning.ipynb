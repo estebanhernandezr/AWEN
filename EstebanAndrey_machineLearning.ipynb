{
  "cells": [
    {
      "cell_type": "markdown",
      "metadata": {
        "id": "view-in-github",
        "colab_type": "text"
      },
      "source": [
        "<a href=\"https://colab.research.google.com/github/estebanhernandezr/AWEN/blob/master/EstebanAndrey_machineLearning.ipynb\" target=\"_parent\"><img src=\"https://colab.research.google.com/assets/colab-badge.svg\" alt=\"Open In Colab\"/></a>"
      ]
    },
    {
      "cell_type": "markdown",
      "metadata": {
        "id": "ic6FSInNKW4y"
      },
      "source": [
        "# Clase 2: Regresión Lineal"
      ]
    },
    {
      "cell_type": "markdown",
      "metadata": {
        "id": "MDfDsP-kKW41"
      },
      "source": [
        "## Introducción\n",
        "\n",
        "Un modelo de regresión es un modelo que describe la relación entre dos, o más, variables. Específicamente como una(s) de esta(s) variables, denominadas **variables independientes**, influyen en las variaciones de otra variable, denominada **variable dependiente**.\n",
        "\n",
        "Supongamos queremos encontrar un modelo de regresión que nos permita estimar cual es el precio por metro cuadrado de una vivienda usando como variable observable la edad de esta. Para poder construir este modelo necesitamos de un conjunto de datos históricos que relacionen el precio de la vivienda e indiquen su área. Para este ejemplo utilizaremos la base de datos \n",
        "*Residential Building Data Set*, la cual puede ser encontrada en el UCI repository en este [link](https://archive.ics.uci.edu/ml/datasets/Real+estate+valuation+data+set). Empecemos por cargar y observar los datos."
      ]
    },
    {
      "cell_type": "code",
      "execution_count": 1,
      "metadata": {
        "id": "UZt9n6g4KW42"
      },
      "outputs": [],
      "source": [
        "import numpy as np\n",
        "import pandas as pd\n",
        "import matplotlib.pyplot as plt\n",
        "\n",
        "%matplotlib inline"
      ]
    },
    {
      "cell_type": "code",
      "execution_count": 2,
      "metadata": {
        "id": "65kwi0a8KW42",
        "outputId": "9995e515-e804-4fec-a8dc-148a5a8bb557",
        "colab": {
          "base_uri": "https://localhost:8080/"
        }
      },
      "outputs": [
        {
          "output_type": "execute_result",
          "data": {
            "text/plain": [
              "(414, 8)"
            ]
          },
          "metadata": {},
          "execution_count": 2
        }
      ],
      "source": [
        "# Cargando el archivo de excel con los datos\n",
        "data = pd.read_excel('Real estate valuation data set.xlsx')\n",
        "data.shape"
      ]
    },
    {
      "cell_type": "code",
      "execution_count": 3,
      "metadata": {
        "id": "If0a6wdNKW43",
        "outputId": "e153be5a-5f24-4c9d-aedb-7bd477c2ed5b",
        "colab": {
          "base_uri": "https://localhost:8080/",
          "height": 424
        }
      },
      "outputs": [
        {
          "output_type": "execute_result",
          "data": {
            "text/html": [
              "\n",
              "  <div id=\"df-888fb728-2680-45a5-ba39-f8e395463058\">\n",
              "    <div class=\"colab-df-container\">\n",
              "      <div>\n",
              "<style scoped>\n",
              "    .dataframe tbody tr th:only-of-type {\n",
              "        vertical-align: middle;\n",
              "    }\n",
              "\n",
              "    .dataframe tbody tr th {\n",
              "        vertical-align: top;\n",
              "    }\n",
              "\n",
              "    .dataframe thead th {\n",
              "        text-align: right;\n",
              "    }\n",
              "</style>\n",
              "<table border=\"1\" class=\"dataframe\">\n",
              "  <thead>\n",
              "    <tr style=\"text-align: right;\">\n",
              "      <th></th>\n",
              "      <th>No</th>\n",
              "      <th>X1 transaction date</th>\n",
              "      <th>X2 house age</th>\n",
              "      <th>X3 distance to the nearest MRT station</th>\n",
              "      <th>X4 number of convenience stores</th>\n",
              "      <th>X5 latitude</th>\n",
              "      <th>X6 longitude</th>\n",
              "      <th>Y house price of unit area</th>\n",
              "    </tr>\n",
              "  </thead>\n",
              "  <tbody>\n",
              "    <tr>\n",
              "      <th>0</th>\n",
              "      <td>1</td>\n",
              "      <td>2012.916667</td>\n",
              "      <td>32.0</td>\n",
              "      <td>84.87882</td>\n",
              "      <td>10</td>\n",
              "      <td>24.98298</td>\n",
              "      <td>121.54024</td>\n",
              "      <td>37.9</td>\n",
              "    </tr>\n",
              "    <tr>\n",
              "      <th>1</th>\n",
              "      <td>2</td>\n",
              "      <td>2012.916667</td>\n",
              "      <td>19.5</td>\n",
              "      <td>306.59470</td>\n",
              "      <td>9</td>\n",
              "      <td>24.98034</td>\n",
              "      <td>121.53951</td>\n",
              "      <td>42.2</td>\n",
              "    </tr>\n",
              "    <tr>\n",
              "      <th>2</th>\n",
              "      <td>3</td>\n",
              "      <td>2013.583333</td>\n",
              "      <td>13.3</td>\n",
              "      <td>561.98450</td>\n",
              "      <td>5</td>\n",
              "      <td>24.98746</td>\n",
              "      <td>121.54391</td>\n",
              "      <td>47.3</td>\n",
              "    </tr>\n",
              "    <tr>\n",
              "      <th>3</th>\n",
              "      <td>4</td>\n",
              "      <td>2013.500000</td>\n",
              "      <td>13.3</td>\n",
              "      <td>561.98450</td>\n",
              "      <td>5</td>\n",
              "      <td>24.98746</td>\n",
              "      <td>121.54391</td>\n",
              "      <td>54.8</td>\n",
              "    </tr>\n",
              "    <tr>\n",
              "      <th>4</th>\n",
              "      <td>5</td>\n",
              "      <td>2012.833333</td>\n",
              "      <td>5.0</td>\n",
              "      <td>390.56840</td>\n",
              "      <td>5</td>\n",
              "      <td>24.97937</td>\n",
              "      <td>121.54245</td>\n",
              "      <td>43.1</td>\n",
              "    </tr>\n",
              "    <tr>\n",
              "      <th>5</th>\n",
              "      <td>6</td>\n",
              "      <td>2012.666667</td>\n",
              "      <td>7.1</td>\n",
              "      <td>2175.03000</td>\n",
              "      <td>3</td>\n",
              "      <td>24.96305</td>\n",
              "      <td>121.51254</td>\n",
              "      <td>32.1</td>\n",
              "    </tr>\n",
              "    <tr>\n",
              "      <th>6</th>\n",
              "      <td>7</td>\n",
              "      <td>2012.666667</td>\n",
              "      <td>34.5</td>\n",
              "      <td>623.47310</td>\n",
              "      <td>7</td>\n",
              "      <td>24.97933</td>\n",
              "      <td>121.53642</td>\n",
              "      <td>40.3</td>\n",
              "    </tr>\n",
              "    <tr>\n",
              "      <th>7</th>\n",
              "      <td>8</td>\n",
              "      <td>2013.416667</td>\n",
              "      <td>20.3</td>\n",
              "      <td>287.60250</td>\n",
              "      <td>6</td>\n",
              "      <td>24.98042</td>\n",
              "      <td>121.54228</td>\n",
              "      <td>46.7</td>\n",
              "    </tr>\n",
              "    <tr>\n",
              "      <th>8</th>\n",
              "      <td>9</td>\n",
              "      <td>2013.500000</td>\n",
              "      <td>31.7</td>\n",
              "      <td>5512.03800</td>\n",
              "      <td>1</td>\n",
              "      <td>24.95095</td>\n",
              "      <td>121.48458</td>\n",
              "      <td>18.8</td>\n",
              "    </tr>\n",
              "    <tr>\n",
              "      <th>9</th>\n",
              "      <td>10</td>\n",
              "      <td>2013.416667</td>\n",
              "      <td>17.9</td>\n",
              "      <td>1783.18000</td>\n",
              "      <td>3</td>\n",
              "      <td>24.96731</td>\n",
              "      <td>121.51486</td>\n",
              "      <td>22.1</td>\n",
              "    </tr>\n",
              "  </tbody>\n",
              "</table>\n",
              "</div>\n",
              "      <button class=\"colab-df-convert\" onclick=\"convertToInteractive('df-888fb728-2680-45a5-ba39-f8e395463058')\"\n",
              "              title=\"Convert this dataframe to an interactive table.\"\n",
              "              style=\"display:none;\">\n",
              "        \n",
              "  <svg xmlns=\"http://www.w3.org/2000/svg\" height=\"24px\"viewBox=\"0 0 24 24\"\n",
              "       width=\"24px\">\n",
              "    <path d=\"M0 0h24v24H0V0z\" fill=\"none\"/>\n",
              "    <path d=\"M18.56 5.44l.94 2.06.94-2.06 2.06-.94-2.06-.94-.94-2.06-.94 2.06-2.06.94zm-11 1L8.5 8.5l.94-2.06 2.06-.94-2.06-.94L8.5 2.5l-.94 2.06-2.06.94zm10 10l.94 2.06.94-2.06 2.06-.94-2.06-.94-.94-2.06-.94 2.06-2.06.94z\"/><path d=\"M17.41 7.96l-1.37-1.37c-.4-.4-.92-.59-1.43-.59-.52 0-1.04.2-1.43.59L10.3 9.45l-7.72 7.72c-.78.78-.78 2.05 0 2.83L4 21.41c.39.39.9.59 1.41.59.51 0 1.02-.2 1.41-.59l7.78-7.78 2.81-2.81c.8-.78.8-2.07 0-2.86zM5.41 20L4 18.59l7.72-7.72 1.47 1.35L5.41 20z\"/>\n",
              "  </svg>\n",
              "      </button>\n",
              "      \n",
              "  <style>\n",
              "    .colab-df-container {\n",
              "      display:flex;\n",
              "      flex-wrap:wrap;\n",
              "      gap: 12px;\n",
              "    }\n",
              "\n",
              "    .colab-df-convert {\n",
              "      background-color: #E8F0FE;\n",
              "      border: none;\n",
              "      border-radius: 50%;\n",
              "      cursor: pointer;\n",
              "      display: none;\n",
              "      fill: #1967D2;\n",
              "      height: 32px;\n",
              "      padding: 0 0 0 0;\n",
              "      width: 32px;\n",
              "    }\n",
              "\n",
              "    .colab-df-convert:hover {\n",
              "      background-color: #E2EBFA;\n",
              "      box-shadow: 0px 1px 2px rgba(60, 64, 67, 0.3), 0px 1px 3px 1px rgba(60, 64, 67, 0.15);\n",
              "      fill: #174EA6;\n",
              "    }\n",
              "\n",
              "    [theme=dark] .colab-df-convert {\n",
              "      background-color: #3B4455;\n",
              "      fill: #D2E3FC;\n",
              "    }\n",
              "\n",
              "    [theme=dark] .colab-df-convert:hover {\n",
              "      background-color: #434B5C;\n",
              "      box-shadow: 0px 1px 3px 1px rgba(0, 0, 0, 0.15);\n",
              "      filter: drop-shadow(0px 1px 2px rgba(0, 0, 0, 0.3));\n",
              "      fill: #FFFFFF;\n",
              "    }\n",
              "  </style>\n",
              "\n",
              "      <script>\n",
              "        const buttonEl =\n",
              "          document.querySelector('#df-888fb728-2680-45a5-ba39-f8e395463058 button.colab-df-convert');\n",
              "        buttonEl.style.display =\n",
              "          google.colab.kernel.accessAllowed ? 'block' : 'none';\n",
              "\n",
              "        async function convertToInteractive(key) {\n",
              "          const element = document.querySelector('#df-888fb728-2680-45a5-ba39-f8e395463058');\n",
              "          const dataTable =\n",
              "            await google.colab.kernel.invokeFunction('convertToInteractive',\n",
              "                                                     [key], {});\n",
              "          if (!dataTable) return;\n",
              "\n",
              "          const docLinkHtml = 'Like what you see? Visit the ' +\n",
              "            '<a target=\"_blank\" href=https://colab.research.google.com/notebooks/data_table.ipynb>data table notebook</a>'\n",
              "            + ' to learn more about interactive tables.';\n",
              "          element.innerHTML = '';\n",
              "          dataTable['output_type'] = 'display_data';\n",
              "          await google.colab.output.renderOutput(dataTable, element);\n",
              "          const docLink = document.createElement('div');\n",
              "          docLink.innerHTML = docLinkHtml;\n",
              "          element.appendChild(docLink);\n",
              "        }\n",
              "      </script>\n",
              "    </div>\n",
              "  </div>\n",
              "  "
            ],
            "text/plain": [
              "   No  X1 transaction date  ...  X6 longitude  Y house price of unit area\n",
              "0   1          2012.916667  ...     121.54024                        37.9\n",
              "1   2          2012.916667  ...     121.53951                        42.2\n",
              "2   3          2013.583333  ...     121.54391                        47.3\n",
              "3   4          2013.500000  ...     121.54391                        54.8\n",
              "4   5          2012.833333  ...     121.54245                        43.1\n",
              "5   6          2012.666667  ...     121.51254                        32.1\n",
              "6   7          2012.666667  ...     121.53642                        40.3\n",
              "7   8          2013.416667  ...     121.54228                        46.7\n",
              "8   9          2013.500000  ...     121.48458                        18.8\n",
              "9  10          2013.416667  ...     121.51486                        22.1\n",
              "\n",
              "[10 rows x 8 columns]"
            ]
          },
          "metadata": {},
          "execution_count": 3
        }
      ],
      "source": [
        "# Observando los datos\n",
        "data.head(10)"
      ]
    },
    {
      "cell_type": "code",
      "execution_count": 4,
      "metadata": {
        "id": "K-PBJX4EKW44",
        "outputId": "0672e952-b12e-43d4-8e05-b5c744ffab49",
        "colab": {
          "base_uri": "https://localhost:8080/",
          "height": 296
        }
      },
      "outputs": [
        {
          "output_type": "execute_result",
          "data": {
            "text/plain": [
              "Text(0, 0.5, 'Price [dollars/$m^2$]')"
            ]
          },
          "metadata": {},
          "execution_count": 4
        },
        {
          "output_type": "display_data",
          "data": {
            "image/png": "[encoded data removed]",
            "text/plain": [
              "<Figure size 432x288 with 1 Axes>"
            ]
          },
          "metadata": {
            "needs_background": "light"
          }
        }
      ],
      "source": [
        "# Graficando las variables de interes\n",
        "plt.scatter(data['X2 house age'], data['Y house price of unit area'])\n",
        "plt.xlabel('Age [years]')\n",
        "plt.ylabel('Price [dollars/$m^2$]')"
      ]
    },
    {
      "cell_type": "markdown",
      "metadata": {
        "id": "B3YK2HTlKW44"
      },
      "source": [
        "## Regresión Lineal Simple\n",
        "\n",
        "vamos a suponer que el modelo que queremos encontrar es un modelo lineal de la forma $ h_\\theta(x) = \\theta_0+\\theta_1x$. Donde $x$ representa la variable independiente, que en este caso sería la antiguedad de la vivienda, y $h_\\theta(x)$ es el modelo (o hipotesis) que depende de los parámetros $\\theta:\\{\\theta_0,\\theta_1\\}$. Este modelo se puede interpretar como una función que mapea los datos de entrada $x$ a valores en $y$. En este caso $y$ es la variable independiente, y representa el precio por $\\text{m}^2$ de la vivienda. El problema ahora radica en encontrar los valores  de los parámetros $\\theta$ que de acuerdo a una métrica dada son capaces de realizar predicciones acertadas.\n",
        "\n",
        "Antes de continuar definamos cierta nomenclatura para poder guiarnos a lo largo de la clase:\n",
        "\n",
        "1. los escalares seran representados por medio de variables tal como $x$ y $y$\n",
        "2. El número de observaciones que se tienen se denominara $m$\n",
        "3. $(x^{(i)},y^{(i)})$ representa la $i$-ésima observación."
      ]
    },
    {
      "cell_type": "markdown",
      "metadata": {
        "id": "g_Rxe4p8KW45"
      },
      "source": [
        "## Función de Costo\n",
        "\n",
        "La idea general para solucionar el problema de regresión planteado en la sección anterior, es: encontrar los parámetros $\\theta$ tal que $h_\\theta(x)$ produce valores cercanos a $y$ para el conjunto de entrenamiento $(x,y)$.\n",
        "\n",
        "**Pregunta:** Dado un valor de entrada $x$, ¿Cómo puedo medir que tan cercano de $y$ son los valores que obtengo con $h_\\theta(x)$?"
      ]
    },
    {
      "cell_type": "markdown",
      "metadata": {
        "id": "71ryEuNRKW45"
      },
      "source": [
        "**Solución:** Existen muchas formas de medir esta distancia, se puede usar la distancia eculidea, u otro tipo de metrica que me permita medir distancias. Sin embargo, una de las más utilziadas es el *error cuadratico medio (Mean Least Squares)*."
      ]
    },
    {
      "cell_type": "markdown",
      "metadata": {
        "id": "J7bms81_KW46"
      },
      "source": [
        "### Error Cuadratico Medio\n",
        "\n",
        "En nuestro problema de regresión el error cuadratio medio se define como:\n",
        "\n",
        "$$e^{(i)}_{LS}(\\theta)=\\frac{1}{m}\\sum_{i=1}^{m}[h_\\theta(x^{(i)})-y^{(i)}]^2.$$"
      ]
    },
    {
      "cell_type": "markdown",
      "metadata": {
        "id": "Pqt1BEP4KW46"
      },
      "source": [
        "Una **función de costo** es una función que me indica cual es el costo en el cual incurre el modelo por seleccionar un conjunto de parámetros $\\theta$. La función de costo para nuestro problema de regresión será el error cuadrático medio. Tradicionalmente la función de costo se expresa con la letra $J$. De esta forma el problema de regresión se enfoca en encontrar el conjunto de parámetros $\\theta$ que minimiza la función de costo, o en otras palabras se debe solucionar:\n",
        "\n",
        "$$ \\min_{\\theta_0,\\theta_1}J(\\theta_0,\\theta_1) $$\n",
        "\n",
        "$$ \\begin{equation}\n",
        "   \\begin{split}\n",
        "      s.t.  & \\quad & J(\\theta) = \\frac{1}{m}\\sum_{i=1}^{m}\\left[h_\\theta(x^{(i)})-y^{(i)}\\right]^2,\\\\\n",
        "            & \\quad & h_\\theta(x) = \\theta_0+\\theta_1x\n",
        "   \\end{split}\n",
        "   \\end{equation}$$"
      ]
    },
    {
      "cell_type": "markdown",
      "metadata": {
        "id": "6F3ozanhKW46"
      },
      "source": [
        "_Explicación de la intuición alrededor de la función de costo usando un solo parámetro en el modelo_ (Tablero virtual, ejemplo $y = x$)"
      ]
    },
    {
      "cell_type": "markdown",
      "metadata": {
        "id": "8hde0Zh9KW46"
      },
      "source": [
        "### ¿Cómo luce la función de costo con múltiple variables?\n",
        "\n",
        "En este caso nuestra función de costo es convexa, lo cual implica que podemos encontrar un mínimo global, la forma de está función de costo es un paraboloide, como se muestra en la siguiente figura.\n",
        "\n",
        "![title](img/Cost_Contour.png)\n",
        "\n",
        "Ahora tratemos de ubicar cual es el valor de la función de costo para diferentes parámetros, así mismo como la salida del modelo.\n",
        "\n",
        "![title](img/Cost_Contour_Test.png)"
      ]
    },
    {
      "cell_type": "markdown",
      "metadata": {
        "id": "b88NUsLoKW47"
      },
      "source": [
        "**Pregunta:** Suponga que para diferentes combinaciones de parámetros ${\\theta_0, \\theta_1}$ al ubicar el costo este se encuentran sobre el mismo contorno, ¿Qué podemos conlcuir?"
      ]
    },
    {
      "cell_type": "markdown",
      "metadata": {
        "id": "6aXej8vwKW47"
      },
      "source": [
        "**Solución:** Si esto sucede, esto significa que para todas estas combinaciones de parámetros el error de predicción del modelo es el mismo. Es decir, esas combinaciones de parámetros producen el mismo costo."
      ]
    },
    {
      "cell_type": "markdown",
      "metadata": {
        "id": "cyQjdjr0KW47"
      },
      "source": [
        "## Aprendizaje de los Parámetros\n",
        "\n",
        "En esta sección estudiaremos dos formas para poder _\"aprender\"_ cuales son los parámetros óptimos de nuestro modelo de regresión lineal. El pimer método es _algebraico_ y el segundo método es un algoritmo de busqueda utilizando técnicas de optimización.\n",
        "\n",
        "### Soluciones de Forma Canónica\n",
        "\n",
        "El probrema de regresión lineal planteado en este ejercicio posee una solución canónica. Esto se debe a la forma de la superficie de error (Función de costo). Antes de continuar, par1 apoder entender la relación entre el problema y el Algebra lineal extendamos un poco la notación que hemos usado hasta el momento:\n",
        "\n",
        "1. Todos los vectores que trabajaremos son vectores columna y se representaran por letras minuscúlas en negrita.\n",
        "2. El vector $\\mathbf{x}=[x^{(1)},\\ldots,x^{(m)}]$ es un vector que contiene todas las $m$ observaciones de la variable independiente. Este vector esta embebido en un espacio $m$-dimensional, es decir $\\mathbf{x}\\in\\mathbb{R}^m$.\n",
        "2. El vector $\\mathbf{y}=[y^{(1)},\\ldots,y^{(m)}]$ es un vector que contiene todas las observaciones de la variable dependiente, y $\\mathbf{x}\\in\\mathbb{R}^m$.\n",
        "3. El vector $\\mathbf{1}_m$ es un vector columna con $m$ elementos, y todos sus elementos son unos, y $\\mathbf{1}_m\\in\\mathbb{R}^m$\n",
        "4. Las matrices se representan por medio de letras mayúsculas en negrita.\n"
      ]
    },
    {
      "cell_type": "markdown",
      "metadata": {
        "id": "BAqCO36DKW47"
      },
      "source": [
        "Con la notación que hemos definido ahora podemos tratar de convertir todas nuestras ecuaciones en forma matricial.\n",
        "\n",
        "**Pregunta:** Nuestro modelo esta definido por $h_\\theta(x^{(i)}) = x^{(i)}*\\theta_1+\\theta_0$. este modelo produce por cada valor de $x$ un valor de salida. Utilizando vectores, es posible escribir esta ecuación de tal forma que se pueda encontrar la salida del modelo para varios valores $x$ en una sola operación. Plantee como quedaria este modelo utilizando producto de matrices y vectores."
      ]
    },
    {
      "cell_type": "markdown",
      "metadata": {
        "id": "4X9LgCtkKW47"
      },
      "source": [
        "**Solución:** El modelo en forma matricial queda expresado como $\\mathbf{h_\\theta}=[\\mathbf{x}\\:\\mathbf{1}]\\boldsymbol{\\theta}$, donde $\\boldsymbol{\\theta}=[\\theta_1 \\quad \\theta_0]$, $\\theta\\in\\mathbb{R}^2$. Simplificando un poco más el modelo se puede definir $\\mathbf{A} = [\\mathbf{x} \\: \\mathbf{1}]$ como la matrix de regresores, las dimensiones de esta matrix son $m\\times2$, es decir $\\mathbf{A}\\in\\mathbb{R}^{m\\times2}$. De esta forma el modelo se simplifica a $\\mathbf{h_\\theta}=\\mathbf{A}\\boldsymbol{\\theta}$."
      ]
    },
    {
      "cell_type": "markdown",
      "metadata": {
        "id": "GiD5WdLmKW48"
      },
      "source": [
        "**Pregunta:** ¿Como se define la función de costo de forma matricial?"
      ]
    },
    {
      "cell_type": "markdown",
      "metadata": {
        "id": "A_ODWpHNKW48"
      },
      "source": [
        "**Solución:** antes de definir la funcion de costo, definamos el error de estimación $\\mathbf{e}=\\mathbf{y}-\\mathbf{A}\\boldsymbol{\\theta}$, donde $\\mathbf{e}\\in\\mathbb{R}^m$. De esta forma la función de costo estaría dada por $J(\\boldsymbol{\\theta}) = \\frac{1}{m}\\mathbf{e}^\\text{T}\\mathbf{e}$, donde $\\text{T}$ representa la transpuesta."
      ]
    },
    {
      "cell_type": "markdown",
      "metadata": {
        "id": "1aWiDF-tKW48"
      },
      "source": [
        "#### Entendiendo la función de costo\n",
        "\n",
        "El objetivo de la función de costo del error cuadratico medio es minimizar la magnitud del error de aproximación. Ese error esta dado por las distancias calculadas entre la predicción del modelo y las observaciones. En la siguiente gráfica se presenta de forma más intuitiva este error.\n",
        "\n",
        "![title](img/Error_Regresion.png)"
      ]
    },
    {
      "cell_type": "markdown",
      "metadata": {
        "id": "XWsxlvADKW48"
      },
      "source": [
        "Si consideramos que el error esta embebido en un espacio $m$-dimensional, entonces cada uno de los $m$ puntos de la función de error representa el valor que debe tomar en cada una de las coordenadas de ese espacio. Por lo tanto, si quiero calcular la magnitud del error, utilizo el producto punto, ya que $||\\mathbf{e}||^2=\\mathbf{e}^\\text{T}\\mathbf{e}$."
      ]
    },
    {
      "cell_type": "markdown",
      "metadata": {
        "id": "QMxQSdAoKW48"
      },
      "source": [
        "Por otro lado, si despejamos la variable independiente de la ecuación del error obtenemos la siguiente expresion $\\mathbf{y} = \\mathbf{A}\\boldsymbol{\\theta}+\\mathbf{e}$. esta ecuación nos indica que el vector $\\mathbf{y}$ se obtiene de la suma de dos vectores, uno que se encuentra embebido en el espacio de columnas de la matrix de regresores y que se calcula como $\\mathbf{A}\\boldsymbol{\\theta}$, y otro que es el vector del error $\\mathbf{e}$. Debido a que queremos minimizar el error tenemos que encontrar los parámetros $\\theta$ que produzcan el error de menor magnitud posible. El vector del error de magnitud más pequeña que se puede encontrar y que conecte al vector $\\mathbf{A}\\boldsymbol{\\theta}$ con el vector $\\mathbf{y}$, es el vector que es perpendicular al espacio de columnas de $\\mathbf{A}$. Es decir, al utilizar como función de costo el error cuadratico medio (la magnitud del vector de error) lo que estamos haciendo es encontrar la combinacion de parámetros $\\mathbf{\\theta}$ que producen la proyección ortogonal de $\\mathbf{y}$ sobre el espacio de columnas de $\\mathbf{A}$."
      ]
    },
    {
      "cell_type": "markdown",
      "metadata": {
        "id": "V1FetvUbKW49"
      },
      "source": [
        "![title](img/Proyection.png)"
      ]
    },
    {
      "cell_type": "markdown",
      "metadata": {
        "id": "cdjzD1WZKW49"
      },
      "source": [
        "#### Minimizando la función de costo\n",
        "\n",
        "Ahora procedamos a minimizar la función de costo y encontrar la solución canónica a nuestro problema de regresión.\n",
        "\n",
        "**Pregunta:** si mi función de costo esta dada por $J(\\boldsymbol{\\theta})=\\frac{1}{m}\\mathbf{e}^\\text{T}\\mathbf{e}$, con $\\mathbf{e}=\\mathbf{y}-\\mathbf{A}\\boldsymbol{\\theta}$ ¿Cuál es el valor de $\\theta$ que minimiza esa función de costo?"
      ]
    },
    {
      "cell_type": "markdown",
      "metadata": {
        "id": "D-Pv5daKKW49"
      },
      "source": [
        "**Solución:**La solución debe dar $\\boldsymbol{\\hat\\theta}=\\left(\\mathbf{A}^\\text{T}\\mathbf{A}\\right)^{-1}\\mathbf{A}\\mathbf{y}$. En la práctica, para evitar errores númericos, debido al mal acondicionamiento de matrices (cercanas a matrices singulares) se utiliza la pseudo-inversa, en lugar de la inversa. La pseudo inversa de la amatrix $\\mathbf{A}$ se define como $\\mathbf{A}^+$. De esa forma la solución esta dada por $\\boldsymbol{\\hat\\theta}=\\left(\\mathbf{A}^\\text{T}\\mathbf{A}\\right)^{+}\\mathbf{A}\\mathbf{y}$."
      ]
    },
    {
      "cell_type": "markdown",
      "metadata": {
        "id": "dyU7LzLoKW49"
      },
      "source": [
        "#### Regresión en la práctica\n",
        "\n",
        "Ahora vamos a aplicar está solución a nuestro ejemplo base."
      ]
    },
    {
      "cell_type": "code",
      "execution_count": 5,
      "metadata": {
        "id": "vC3XpWiCKW49",
        "outputId": "ac022e1a-7155-49b2-8e4a-e89ffd8919b2",
        "colab": {
          "base_uri": "https://localhost:8080/"
        }
      },
      "outputs": [
        {
          "output_type": "stream",
          "name": "stdout",
          "text": [
            "[-0.25148842 42.43469705]\n"
          ]
        }
      ],
      "source": [
        "ones = np.ones((len(data),1))\n",
        "x = data['X2 house age']\n",
        "y = data['Y house price of unit area']\n",
        "A = np.column_stack((x,ones))\n",
        "\n",
        "theta = np.matmul(np.matmul(np.linalg.pinv(np.matmul(np.transpose(A),A)),np.transpose(A)),y)\n",
        "print(theta)"
      ]
    },
    {
      "cell_type": "markdown",
      "metadata": {
        "id": "jjTcFZy1KW49"
      },
      "source": [
        "Graficando los resultados del modelo"
      ]
    },
    {
      "cell_type": "code",
      "execution_count": 15,
      "metadata": {
        "id": "E73diRcwKW49",
        "colab": {
          "base_uri": "https://localhost:8080/"
        },
        "outputId": "d85f84a4-cfda-4f2a-a0c9-2292365fb591"
      },
      "outputs": [
        {
          "output_type": "stream",
          "name": "stdout",
          "text": [
            "[34.38706764 37.53067287 39.08990107 39.08990107 41.17725495 40.64912927\n",
            " 33.75834659 37.32948214 34.46251416 37.93305434 33.68290006 40.85032001\n",
            " 39.1653476  37.3043333  39.11504991 33.45656048 42.43469705 37.98335203\n",
            " 38.18454276 42.05746442 41.30299916 39.79406865 38.73781729 39.89466401\n",
            " 32.47575565 35.06608637 41.65508295 39.81921749 37.6061194  40.64912927\n",
            " 35.92114699 34.99063984 32.90328596 38.28513813 38.56177539 38.93900802\n",
            " 38.73781729 39.41683602 41.65508295 38.36058466 39.01445455 38.20969161\n",
            " 33.35596512 33.78349543 41.75567831 33.23022091 36.97739835 33.4062628\n",
            " 36.3486773  35.04093753 36.97739835 34.56310953 34.36191879 39.08990107\n",
            " 38.3857335  34.46251416 33.98468616 41.55448758 34.81459795 39.08990107\n",
            " 39.66832444 41.10180843 38.10909624 41.78082716 38.03364971 32.35001144\n",
            " 42.18320863 40.29704548 34.78944911 39.29109181 40.77487348 33.50685817\n",
            " 34.26132343 38.96415686 40.7245758  39.34138949 33.4062628  37.27918446\n",
            " 32.82783944 37.9079055  39.4671337  34.68885374 39.11504991 36.07204004\n",
            " 38.63722192 42.43469705 41.98201789 38.18454276 40.19645012 36.65046341\n",
            " 42.43469705 40.14615243 37.25403561 34.41221648 32.14882071 40.42278969\n",
            " 40.82517116 35.29242594 38.31028697 40.82517116 38.03364971 39.24079412\n",
            " 42.15805979 42.43469705 34.21102574 42.43469705 38.10909624 39.36653833\n",
            " 34.53796069 41.42874337 40.39764085 34.06013269 39.9449617  38.71266844\n",
            " 34.73915142 37.25403561 34.6637049  39.01445455 36.07204004 38.25998929\n",
            " 39.08990107 39.01445455 34.51281185 42.43469705 39.9449617  42.15805979\n",
            " 32.72724407 41.47904105 32.04822534 32.75239291 34.99063984 41.42874337\n",
            " 35.7451051  37.9079055  34.03498385 37.68156593 39.56772907 39.01445455\n",
            " 39.91981286 39.19049644 38.36058466 41.15210611 37.45522635 39.01445455\n",
            " 39.44198486 41.90657137 42.43469705 41.62993411 38.31028697 33.65775122\n",
            " 33.43141164 41.20240379 39.41683602 40.80002232 38.18454276 38.96415686\n",
            " 34.71400258 38.3857335  39.51743138 38.53662655 41.55448758 37.6061194\n",
            " 38.41088234 40.29704548 42.43469705 38.9893057  42.43469705 35.34272363\n",
            " 35.49361668 40.32219433 36.39897499 41.52933874 40.77487348 32.04822534\n",
            " 41.35329684 34.83974679 38.93900802 34.13557922 39.14019876 38.91385918\n",
            " 35.66965857 39.51743138 39.03960339 38.15939392 38.88871034 34.53796069\n",
            " 37.17858909 40.19645012 33.68290006 38.33543582 33.55715585 39.11504991\n",
            " 31.41950429 39.99525938 38.61207308 38.61207308 36.70076109 33.78349543\n",
            " 33.8840908  37.85760782 38.05879855 39.14019876 32.8026906  38.51147771\n",
            " 37.9079055  39.21564528 36.85165414 32.75239291 39.54258023 33.68290006\n",
            " 41.12695727 42.43469705 38.00850087 40.87546885 37.88275666 37.6061194\n",
            " 32.9284348  35.39302131 39.01445455 35.06608637 33.07932786 40.17130127\n",
            " 34.73915142 40.14615243 33.75834659 42.15805979 38.28513813 34.28647227\n",
            " 39.44198486 34.63855605 41.42874337 38.36058466 35.61936089 32.45060681\n",
            " 40.42278969 39.19049644 41.52933874 39.1653476  39.21564528 37.88275666\n",
            " 39.66832444 38.9893057  41.93172021 34.1858769  41.22755263 40.5485339\n",
            " 38.31028697 36.97739835 37.65641708 37.9079055  32.57635102 34.46251416\n",
            " 40.95091537 34.78944911 42.15805979 34.51281185 38.76296613 38.0839474\n",
            " 42.43469705 37.98335203 38.15939392 38.36058466 38.43603118 41.45389221\n",
            " 34.23617458 38.48632887 37.95820319 33.7080489  38.10909624 38.00850087\n",
            " 39.71862212 37.98335203 39.1653476  39.11504991 35.51876552 42.05746442\n",
            " 37.63126824 37.10314256 42.43469705 41.78082716 41.85627368 41.25270148\n",
            " 41.93172021 34.00983501 38.66237076 34.86489563 40.95091537 37.6061194\n",
            " 38.25998929 38.93900802 32.95358365 41.57963642 38.03364971 39.26594297\n",
            " 35.79540278 37.85760782 39.29109181 33.65775122 38.23484045 34.08528153\n",
            " 41.805976   32.87813712 38.28513813 32.8026906  37.40492866 38.36058466\n",
            " 38.81326381 39.84436633 38.31028697 34.81459795 38.31028697 37.07799372\n",
            " 33.53200701 40.34734317 41.5041899  38.51147771 39.08990107 38.51147771\n",
            " 40.64912927 33.73319775 39.03960339 38.18454276 39.19049644 35.24212826\n",
            " 39.31624065 33.23022091 41.40359453 41.55448758 38.43603118 39.01445455\n",
            " 34.38706764 35.99659352 32.42545797 40.47308738 34.89004447 35.56906321\n",
            " 41.15210611 34.56310953 34.51281185 42.00716673 33.98468616 39.1653476\n",
            " 41.00121306 34.00983501 33.73319775 42.43469705 39.11504991 38.05879855\n",
            " 41.27785032 40.47308738 39.11504991 41.42874337 37.80731014 41.40359453\n",
            " 39.36653833 41.47904105 39.84436633 42.43469705 42.15805979 41.0263619\n",
            " 34.16072806 32.0230765  38.13424508 34.31162111 33.55715585 38.0839474\n",
            " 38.8635615  38.66237076 37.85760782 37.35463098 38.43603118 41.40359453\n",
            " 33.90923964 42.43469705 41.07665958 36.97739835 38.73781729 41.45389221\n",
            " 33.05417901 42.43469705 38.88871034 40.42278969 38.33543582 35.11638405\n",
            " 38.3857335  37.83245898 42.43469705 38.36058466 39.81921749 32.14882071\n",
            " 34.1858769  40.87546885 31.69614155 38.18454276 34.23617458 37.10314256\n",
            " 33.1044767  39.14019876 38.73781729 39.24079412 35.69480741 40.52338506\n",
            " 39.24079412 34.6637049  38.31028697 36.65046341 41.95686905 41.12695727\n",
            " 37.78216129 38.9893057  41.0263619  37.70671477 40.39764085 40.80002232]\n"
          ]
        }
      ],
      "source": [
        "h = np.matmul(A,theta)\n",
        "print(h)"
      ]
    },
    {
      "cell_type": "code",
      "execution_count": 7,
      "metadata": {
        "id": "qTv9Cl1vKW49",
        "outputId": "79fbdeff-35bf-4beb-cb5a-11b9521361a2",
        "colab": {
          "base_uri": "https://localhost:8080/",
          "height": 296
        }
      },
      "outputs": [
        {
          "output_type": "execute_result",
          "data": {
            "text/plain": [
              "[<matplotlib.lines.Line2D at 0x7fcddb5b3190>]"
            ]
          },
          "metadata": {},
          "execution_count": 7
        },
        {
          "output_type": "display_data",
          "data": {
            "image/png": "[encoded data removed]",
            "text/plain": [
              "<Figure size 432x288 with 1 Axes>"
            ]
          },
          "metadata": {
            "needs_background": "light"
          }
        }
      ],
      "source": [
        "# Graficando las variables de interes\n",
        "plt.scatter(data['X2 house age'], data['Y house price of unit area'])\n",
        "plt.xlabel('Age [years]')\n",
        "plt.ylabel('Price [dollars/$m^2$]')\n",
        "plt.plot(x,h,'r')"
      ]
    },
    {
      "cell_type": "markdown",
      "metadata": {
        "id": "VL5U6YCYKW4-"
      },
      "source": [
        "FUNCIONA!!!"
      ]
    },
    {
      "cell_type": "markdown",
      "metadata": {
        "id": "jZDATHqIKW4-"
      },
      "source": [
        "**Pregunta:** ¿Qué problemas presenta la solución canónica?"
      ]
    },
    {
      "cell_type": "markdown",
      "metadata": {
        "id": "LGdd5qPyKW4-"
      },
      "source": [
        "**Solución:** Existen dos grandes restricciones:\n",
        "\n",
        "1. La solución canónica requiere calcular la inversa de una matriz cuadrada de dimensión $n\\times n$, con $n$ el número de columnas de la matriz de regresores, lo cual es una operación del orden $\\mathcal{O}(n^3)$. Por lo tanto, cuando se tienen muchos regresores, este problema tardaría mucho tiempo en resolverse y requeriría muchos recursos computacionales (memoria). Los sistemas de cómputo actuales pueden resolver inversas de matrices del orden $10.000 \\times 10.000$ en un tiempo razonable. Sin embargo si esto aumenta, el problema se vuelve cada vez más difícil de solucionar con los recursos computacionales actuales.\n",
        "\n",
        "2. Esta solución canónica solamente funciona para encontrar el mínimo de la función de costo de error cuadrático medio y funciones afines. Por lo cual sería interesante encontrar un método que permita encontrar los parámetros de una función de costo, independiente de la forma de esta función."
      ]
    },
    {
      "cell_type": "markdown",
      "metadata": {
        "id": "2Y4xhUQ_KW4-"
      },
      "source": [
        "### Gradiente Descendiente\n",
        "\n",
        "Debido a las limitaciones que puede tener la solución canónica del problema de regresión lineal, surge la necesidad de crear un algoritmo que se pueda utilizar independientemente si se tienen muchos regresores, o si la superficie de la función de costo no es convexa. El algoritmo mas sencillo y popular que hace esta tarea es gradiente descendiente.\n",
        "\n",
        "La idea general de los algoritmos de optimización es la siguiente:\n",
        "1. Inicializar los parámetros $\\{\\theta_0,\\theta_1\\}$\n",
        "2. Continuar cambiando los parámetros para reducir la función de costo $J(\\theta_0,\\theta_1)$ hasta que converja a un valor mínimo (Se llegue a un valor mínimo o se estabilice la reducción en la función de costo).\n",
        "\n",
        "**Nota:** Este procedimiento aplica también para funciones de costo que dependan de muchas más variables.\n",
        "\n",
        "![item](img/Grad_Desc.jpeg)\n",
        "\n",
        "Es importante observar que dependiendo de la forma de la superficie de la función de costo, es posible que al inicializar el algoritmo para unos paramétros diferentes la unción converja a otro minimo local."
      ]
    },
    {
      "cell_type": "markdown",
      "metadata": {
        "id": "2CwP1d8ZKW4-"
      },
      "source": [
        "**Pregunta:** ¿En qué dirección debo desplazar los parámetros para lograr que la función de costo disminuya?, en otras palabras ¿Cómo debo cambiar los parámetros para que la función de costo disminuya?"
      ]
    },
    {
      "cell_type": "markdown",
      "metadata": {
        "id": "xMjh5lClKW4-"
      },
      "source": [
        "**Solución:** En la dirección contraria al gradiente de la función de costo. \n",
        "\n",
        "![item](img/Grad_Desc_LC.png)"
      ]
    },
    {
      "cell_type": "markdown",
      "metadata": {
        "id": "S3jJmYSXKW4-"
      },
      "source": [
        "Como se puede observar, la idea es actualizar los pesos en dirección contraria al gradiente de la función. Esto se expresa de la siguiente forma:\n",
        "\n",
        "$$\\theta_j := \\theta_j-\\alpha \\frac{\\partial}{\\partial\\theta_j}J(\\boldsymbol{\\theta}) $$\n",
        "\n",
        "Donde $\\boldsymbol{\\theta} = [\\theta_0 \\: \\theta_1]$, $\\alpha$ se denomina la taza de aprendizaje (o la constante de aprendizaje) y siempre $\\alpha>0$, y el simbolo $:=$ representa una asignación.\n",
        "\n",
        "\n",
        "Es importante tener en cuenta que al realizar este procedimiento, las asignaciones se hagan todas de una sola vez, o que primero que calculen todos los valores de actualización y después se haga la asignación. Esto sucede porque la función de costo depende de todos los parámetros, y si actualizamos uno de ellos y lo usamos para actualizar el siguiente, entonces nos estamos moviendo en la superficie de la función de costos y ya el valor del gradiente no es el mismo."
      ]
    },
    {
      "cell_type": "markdown",
      "metadata": {
        "id": "TkBvNwsqKW4_"
      },
      "source": [
        "#### Intuición alrededor del método de descenso del gradiente\n",
        "\n",
        "Supongamos que se tiene una función de costo que depende de una sola variable $\\theta_1$. Entonces la ecuación de actualización del parámetro está dada por:\n",
        "\n",
        "$$\\theta_1 := \\theta_1-\\alpha\\frac{d}{d\\theta_1}J(\\theta_1)$$"
      ]
    },
    {
      "cell_type": "markdown",
      "metadata": {
        "id": "MDrdqOszKW4_"
      },
      "source": [
        "**Pregunta:** ¿Supongamos que nuestra función de costo es una parábola, ¿Explique cómo funciona  del método de descenso del grandiente si al inicializar $\\theta_1$ nos ubicamos a la izquierda o a la derecha del mínimo."
      ]
    },
    {
      "cell_type": "markdown",
      "metadata": {
        "id": "U-0Pk9mkKW4_"
      },
      "source": [
        "**Solución:** Independientemente de donde este ubicado el parámetro inicial siempre se actualizará en la dirección donde el minimo esta ubicado.\n",
        "\n",
        "![title](img/GD_izq.png)\n",
        "![title](img/GD_der.png)"
      ]
    },
    {
      "cell_type": "markdown",
      "metadata": {
        "id": "Jxat0Th8KW4_"
      },
      "source": [
        "**Preguntas:** ¿Cuál es el efecto de la taza de aprendizaje en el algoritmo?¿Qué sucede si es muy grande o si es muy pequeña?¿Cómo se define muy grande o muy pequeño?"
      ]
    },
    {
      "cell_type": "markdown",
      "metadata": {
        "id": "O0KUTlVHKW4_"
      },
      "source": [
        "**Solución:** La gráfica de abajo explica la primera y la segunda pregunta. Con respecto a la tercera pregunta, depende de los datos, la varianza de los datos de entrada influencia la derivada y está a su vez afecta el paso de actualización. Note que aunque la taza de aprendizaje se deje fija, si su valor es el adecuado el algoritmo va a converger al mínimo.\n",
        "\n",
        "![title](img/LearningRateEffect.png)"
      ]
    },
    {
      "cell_type": "markdown",
      "metadata": {
        "id": "XxoLga0SKW4_"
      },
      "source": [
        "**Pregunta:**  La siguiente figura muestra la evolución de la función de costo a medida que se actualizan los valores de los parámetros. Explique porque se le relaciona a cada curva la condición determinada de la taza de aprendizaje.\n",
        "\n",
        "**Nota:** La abscisa de la figura representa las épocas y no el parámetro que cambia, esta es una gráfica de Función de costo _vs_ época. Una época se refiere a una actualización completa de todos los parámetros del modelo.\n",
        "\n",
        "![item](img/Cost_Ephocs.png)\n",
        "\n"
      ]
    },
    {
      "cell_type": "markdown",
      "metadata": {
        "id": "zIEfR9DQKW4_"
      },
      "source": [
        "**Solución:** Revisar lo que sucede en las gráficas de la pregunta anterior."
      ]
    },
    {
      "cell_type": "markdown",
      "metadata": {
        "id": "lLT6Gf2VKW4_"
      },
      "source": [
        "**Pregunta** ¿ qué pasa si el parámetro se inicializa en un mínimo de la función de costo?"
      ]
    },
    {
      "cell_type": "markdown",
      "metadata": {
        "id": "zTNxZEt8KW4_"
      },
      "source": [
        "**Solución:** El valor del parámetro no cambia, ya ha llegado al mínimo."
      ]
    },
    {
      "cell_type": "markdown",
      "metadata": {
        "id": "JRu6K-hyKW4_"
      },
      "source": [
        "#### Ecuaciones de Gradient Descent para Regresión Lineal\n",
        "\n",
        "Para calcular las ecuaciones del gradiente descendiente debemos saber cuál es el valor del gradiente de la función de costo. La función de costo está definida por:\n",
        "\n",
        "$$\\frac{\\partial}{\\partial\\theta_j}J(\\theta_0,\\theta_1) = \\frac{\\partial}{\\partial\\theta_j}\\frac{1}{2m}\\sum_{i=1}^{m}\\left[h_\\theta(x^{(i)})-y^{(i)}\\right]^2,$$\n",
        "\n",
        "el número 2 que se inserta ayuda a simplificar una constante que aparece más adelante. Teniendo en cuenta que $h_\\theta(x^{(i)}) = \\theta_0+\\theta_1x^{(i)}$, entonces las respectivas derivadas son:\n",
        "\n",
        "$$ \\begin{equation}\n",
        "   \\begin{split}\n",
        "      \\theta_0 &=& \\frac{1}{m}\\sum_{i=1}^{m}\\left[h_\\theta(x^{(i)})-y^{(i)}\\right]\\\\\n",
        "      \\theta_1 &=& \\frac{1}{m}\\sum_{i=1}^{m}\\left[h_\\theta(x^{(i)})-y^{(i)}\\right]x^{(i)}\n",
        "   \\end{split}\n",
        "   \\end{equation}$$"
      ]
    },
    {
      "cell_type": "markdown",
      "metadata": {
        "id": "xSx3GLFUKW5A"
      },
      "source": [
        "De la actualización se puede observar lo siguiente:\n",
        "1. La actualización para $\\theta_0$ trata de hacer que el error tenga media cero, entonces corrige por el offset que ocasiona este parámetro.\n",
        "2. La actualización para $\\theta_1$ trata de corregir la pendiente, de tal forma que el valor medio de corrección por la pendiente sea cero.\n",
        "\n",
        "**Nota:** Este algoritmo de gradiente descendiente se conoce como **_BATCH_** Gradiente Descent, esto significa que usa todo el conjunto de datos de entrenamiento para realizar la actualización. algunos algoritmos usan solo un subconjunto de los datos de entrenamiento para su actualización, esos son versiones modificadas del gradient descent."
      ]
    },
    {
      "cell_type": "markdown",
      "metadata": {
        "id": "wXPfWrLXKW5A"
      },
      "source": [
        "## Regresión Lineal Multivariable\n",
        "\n",
        "En esta sección trataremos el caso cuando tenemos varios regresores (variables independientes). Para poder continuar adicionaremos algunas definiciones a la nomenclatura:\n",
        "\n",
        "1. m es el número de observaciones (ejemplos de entrenamiento)\n",
        "2. n es el número de caracterísicas (regresores)\n",
        "3. $x_j^{(i)}$ es el valor de la característica (regresor) $j$ en la $i$-ésima observación.\n",
        "4. $\\mathbf{x}^{(i)}$ es el vector de características (regresores) de la $i-$ésima observación, y $\\mathbf{x} \\in \\mathbb{R}^n$.\n",
        "5. $\\boldsymbol{\\theta}$ es un vector columna con $n+1$, $\\boldsymbol{\\theta} \\in \\mathbb{R}^{n+1}$. (El $+1$ proviene del vector de unos que acompaña a $\\theta_0$.\n",
        "\n",
        "Ahora nuestro modelo contiene $n$ regresores y es de la forma:\n",
        "\n",
        "$$h_\\theta(x)= \\theta_0+\\theta_1x_1+\\ldots+\\theta_nx_n.$$\n",
        "\n",
        "Lo cual se puede representar de forma vectorial como:\n",
        "\n",
        "$$\\mathbf{h_\\theta(x)}= \\mathbf{\\theta}^{T}\\mathbf{x}.$$"
      ]
    },
    {
      "cell_type": "markdown",
      "metadata": {
        "id": "6tj-vQanKW5A"
      },
      "source": [
        "### Solución Canónica para Regresión Lineal multivariable\n",
        "\n",
        "La solución para la regresión lineal múltivariable tiene la misma forma que la solución encontrada anteriormente. La única diferencia es que la matrix de regresores ahora esta formada por $\\mathbf{A} = [\\mathbf1_m \\: \\mathbf{X}]$, donde $\\mathbf{X} = [\\mathbf{x}^{(1)}\\: \\ldots\\: \\mathbf{x}^{(m)}]^\\text{T}$.\n",
        "\n",
        "De esta forma la solución sigue estando dada por:\n",
        "$$\\boldsymbol{\\hat\\theta}=\\left(\\mathbf{A}^\\text{T}\\mathbf{A}\\right)^{+}\\mathbf{A}\\mathbf{y}.$$\n",
        "\n",
        "Con $\\boldsymbol{\\hat\\theta} \\in \\mathbb{R}^{n+1}$."
      ]
    },
    {
      "cell_type": "markdown",
      "metadata": {
        "id": "Z5w1CR_rKW5A"
      },
      "source": [
        "### Gradiente Descendiente para Regresión Lineal multivariable\n",
        "\n",
        "Siguiendo el mismo análisis anterior, las ecuaciones de actualización par alos parámetros utilizando gradiente descendiente son:\n",
        "\n",
        "$$ \\begin{equation}\n",
        "   \\begin{split}\n",
        "      \\theta_0 &=& \\frac{1}{m}\\sum_{i=1}^{m}\\left[h_\\theta(x^{(i)})-y^{(i)}\\right]x_0^{(i)}\\\\\n",
        "      \\theta_1 &=& \\frac{1}{m}\\sum_{i=1}^{m}\\left[h_\\theta(x^{(i)})-y^{(i)}\\right]x_1^{(i)}\\\\\n",
        "      & & \\vdots\\\\\n",
        "      \\theta_n &=& \\frac{1}{m}\\sum_{i=1}^{m}\\left[h_\\theta(x^{(i)})-y^{(i)}\\right]x_n^{(i)}\\\\\n",
        "   \\end{split}\n",
        "   \\end{equation}$$\n",
        "   \n",
        "Donde $x_0^{(i)}= 1$ para todo $i$."
      ]
    },
    {
      "cell_type": "markdown",
      "metadata": {
        "id": "Hzud1jAnKW5A"
      },
      "source": [
        "## TAREA\n",
        "\n",
        "Para la siguiente clase realiceuna implementación en python del algoritmo de gradiente descendiente. Esta implementación debe solucionar el problema de regresión que se trabajo en clase. Se debe tener en cuenta lo siguiente:\n",
        "\n",
        "1. Debe realizar la implementación en un notebook de jupyter.\n",
        "2. La implementación debe ser interactiva. Es decir yo deberia poder modificar la taza de aprendizaje por medio de un elemento de interacción, para esto estudie la libreria _ipywidgets_.\n",
        "3. Se debe hacer una grafica de la función de costo a medida que se actualixan los parámetros, de tal forma qu ese pueda observar a medida que los parámetros cambia como cambia la función de costo.\n",
        "4. Realice la implementación para que funcione también para regresión múltiple."
      ]
    },
    {
      "cell_type": "code",
      "source": [
        "# Observando los datos\n",
        "data.head(10)"
      ],
      "metadata": {
        "colab": {
          "base_uri": "https://localhost:8080/",
          "height": 424
        },
        "id": "BYRjSv_ZMmwJ",
        "outputId": "ea695ec4-8868-4e36-922d-c4d68f26c71c"
      },
      "execution_count": 13,
      "outputs": [
        {
          "output_type": "execute_result",
          "data": {
            "text/html": [
              "\n",
              "  <div id=\"df-66115871-f6f6-4a66-a037-0141e99891bf\">\n",
              "    <div class=\"colab-df-container\">\n",
              "      <div>\n",
              "<style scoped>\n",
              "    .dataframe tbody tr th:only-of-type {\n",
              "        vertical-align: middle;\n",
              "    }\n",
              "\n",
              "    .dataframe tbody tr th {\n",
              "        vertical-align: top;\n",
              "    }\n",
              "\n",
              "    .dataframe thead th {\n",
              "        text-align: right;\n",
              "    }\n",
              "</style>\n",
              "<table border=\"1\" class=\"dataframe\">\n",
              "  <thead>\n",
              "    <tr style=\"text-align: right;\">\n",
              "      <th></th>\n",
              "      <th>No</th>\n",
              "      <th>X1 transaction date</th>\n",
              "      <th>X2 house age</th>\n",
              "      <th>X3 distance to the nearest MRT station</th>\n",
              "      <th>X4 number of convenience stores</th>\n",
              "      <th>X5 latitude</th>\n",
              "      <th>X6 longitude</th>\n",
              "      <th>Y house price of unit area</th>\n",
              "    </tr>\n",
              "  </thead>\n",
              "  <tbody>\n",
              "    <tr>\n",
              "      <th>0</th>\n",
              "      <td>1</td>\n",
              "      <td>2012.916667</td>\n",
              "      <td>32.0</td>\n",
              "      <td>84.87882</td>\n",
              "      <td>10</td>\n",
              "      <td>24.98298</td>\n",
              "      <td>121.54024</td>\n",
              "      <td>37.9</td>\n",
              "    </tr>\n",
              "    <tr>\n",
              "      <th>1</th>\n",
              "      <td>2</td>\n",
              "      <td>2012.916667</td>\n",
              "      <td>19.5</td>\n",
              "      <td>306.59470</td>\n",
              "      <td>9</td>\n",
              "      <td>24.98034</td>\n",
              "      <td>121.53951</td>\n",
              "      <td>42.2</td>\n",
              "    </tr>\n",
              "    <tr>\n",
              "      <th>2</th>\n",
              "      <td>3</td>\n",
              "      <td>2013.583333</td>\n",
              "      <td>13.3</td>\n",
              "      <td>561.98450</td>\n",
              "      <td>5</td>\n",
              "      <td>24.98746</td>\n",
              "      <td>121.54391</td>\n",
              "      <td>47.3</td>\n",
              "    </tr>\n",
              "    <tr>\n",
              "      <th>3</th>\n",
              "      <td>4</td>\n",
              "      <td>2013.500000</td>\n",
              "      <td>13.3</td>\n",
              "      <td>561.98450</td>\n",
              "      <td>5</td>\n",
              "      <td>24.98746</td>\n",
              "      <td>121.54391</td>\n",
              "      <td>54.8</td>\n",
              "    </tr>\n",
              "    <tr>\n",
              "      <th>4</th>\n",
              "      <td>5</td>\n",
              "      <td>2012.833333</td>\n",
              "      <td>5.0</td>\n",
              "      <td>390.56840</td>\n",
              "      <td>5</td>\n",
              "      <td>24.97937</td>\n",
              "      <td>121.54245</td>\n",
              "      <td>43.1</td>\n",
              "    </tr>\n",
              "    <tr>\n",
              "      <th>5</th>\n",
              "      <td>6</td>\n",
              "      <td>2012.666667</td>\n",
              "      <td>7.1</td>\n",
              "      <td>2175.03000</td>\n",
              "      <td>3</td>\n",
              "      <td>24.96305</td>\n",
              "      <td>121.51254</td>\n",
              "      <td>32.1</td>\n",
              "    </tr>\n",
              "    <tr>\n",
              "      <th>6</th>\n",
              "      <td>7</td>\n",
              "      <td>2012.666667</td>\n",
              "      <td>34.5</td>\n",
              "      <td>623.47310</td>\n",
              "      <td>7</td>\n",
              "      <td>24.97933</td>\n",
              "      <td>121.53642</td>\n",
              "      <td>40.3</td>\n",
              "    </tr>\n",
              "    <tr>\n",
              "      <th>7</th>\n",
              "      <td>8</td>\n",
              "      <td>2013.416667</td>\n",
              "      <td>20.3</td>\n",
              "      <td>287.60250</td>\n",
              "      <td>6</td>\n",
              "      <td>24.98042</td>\n",
              "      <td>121.54228</td>\n",
              "      <td>46.7</td>\n",
              "    </tr>\n",
              "    <tr>\n",
              "      <th>8</th>\n",
              "      <td>9</td>\n",
              "      <td>2013.500000</td>\n",
              "      <td>31.7</td>\n",
              "      <td>5512.03800</td>\n",
              "      <td>1</td>\n",
              "      <td>24.95095</td>\n",
              "      <td>121.48458</td>\n",
              "      <td>18.8</td>\n",
              "    </tr>\n",
              "    <tr>\n",
              "      <th>9</th>\n",
              "      <td>10</td>\n",
              "      <td>2013.416667</td>\n",
              "      <td>17.9</td>\n",
              "      <td>1783.18000</td>\n",
              "      <td>3</td>\n",
              "      <td>24.96731</td>\n",
              "      <td>121.51486</td>\n",
              "      <td>22.1</td>\n",
              "    </tr>\n",
              "  </tbody>\n",
              "</table>\n",
              "</div>\n",
              "      <button class=\"colab-df-convert\" onclick=\"convertToInteractive('df-66115871-f6f6-4a66-a037-0141e99891bf')\"\n",
              "              title=\"Convert this dataframe to an interactive table.\"\n",
              "              style=\"display:none;\">\n",
              "        \n",
              "  <svg xmlns=\"http://www.w3.org/2000/svg\" height=\"24px\"viewBox=\"0 0 24 24\"\n",
              "       width=\"24px\">\n",
              "    <path d=\"M0 0h24v24H0V0z\" fill=\"none\"/>\n",
              "    <path d=\"M18.56 5.44l.94 2.06.94-2.06 2.06-.94-2.06-.94-.94-2.06-.94 2.06-2.06.94zm-11 1L8.5 8.5l.94-2.06 2.06-.94-2.06-.94L8.5 2.5l-.94 2.06-2.06.94zm10 10l.94 2.06.94-2.06 2.06-.94-2.06-.94-.94-2.06-.94 2.06-2.06.94z\"/><path d=\"M17.41 7.96l-1.37-1.37c-.4-.4-.92-.59-1.43-.59-.52 0-1.04.2-1.43.59L10.3 9.45l-7.72 7.72c-.78.78-.78 2.05 0 2.83L4 21.41c.39.39.9.59 1.41.59.51 0 1.02-.2 1.41-.59l7.78-7.78 2.81-2.81c.8-.78.8-2.07 0-2.86zM5.41 20L4 18.59l7.72-7.72 1.47 1.35L5.41 20z\"/>\n",
              "  </svg>\n",
              "      </button>\n",
              "      \n",
              "  <style>\n",
              "    .colab-df-container {\n",
              "      display:flex;\n",
              "      flex-wrap:wrap;\n",
              "      gap: 12px;\n",
              "    }\n",
              "\n",
              "    .colab-df-convert {\n",
              "      background-color: #E8F0FE;\n",
              "      border: none;\n",
              "      border-radius: 50%;\n",
              "      cursor: pointer;\n",
              "      display: none;\n",
              "      fill: #1967D2;\n",
              "      height: 32px;\n",
              "      padding: 0 0 0 0;\n",
              "      width: 32px;\n",
              "    }\n",
              "\n",
              "    .colab-df-convert:hover {\n",
              "      background-color: #E2EBFA;\n",
              "      box-shadow: 0px 1px 2px rgba(60, 64, 67, 0.3), 0px 1px 3px 1px rgba(60, 64, 67, 0.15);\n",
              "      fill: #174EA6;\n",
              "    }\n",
              "\n",
              "    [theme=dark] .colab-df-convert {\n",
              "      background-color: #3B4455;\n",
              "      fill: #D2E3FC;\n",
              "    }\n",
              "\n",
              "    [theme=dark] .colab-df-convert:hover {\n",
              "      background-color: #434B5C;\n",
              "      box-shadow: 0px 1px 3px 1px rgba(0, 0, 0, 0.15);\n",
              "      filter: drop-shadow(0px 1px 2px rgba(0, 0, 0, 0.3));\n",
              "      fill: #FFFFFF;\n",
              "    }\n",
              "  </style>\n",
              "\n",
              "      <script>\n",
              "        const buttonEl =\n",
              "          document.querySelector('#df-66115871-f6f6-4a66-a037-0141e99891bf button.colab-df-convert');\n",
              "        buttonEl.style.display =\n",
              "          google.colab.kernel.accessAllowed ? 'block' : 'none';\n",
              "\n",
              "        async function convertToInteractive(key) {\n",
              "          const element = document.querySelector('#df-66115871-f6f6-4a66-a037-0141e99891bf');\n",
              "          const dataTable =\n",
              "            await google.colab.kernel.invokeFunction('convertToInteractive',\n",
              "                                                     [key], {});\n",
              "          if (!dataTable) return;\n",
              "\n",
              "          const docLinkHtml = 'Like what you see? Visit the ' +\n",
              "            '<a target=\"_blank\" href=https://colab.research.google.com/notebooks/data_table.ipynb>data table notebook</a>'\n",
              "            + ' to learn more about interactive tables.';\n",
              "          element.innerHTML = '';\n",
              "          dataTable['output_type'] = 'display_data';\n",
              "          await google.colab.output.renderOutput(dataTable, element);\n",
              "          const docLink = document.createElement('div');\n",
              "          docLink.innerHTML = docLinkHtml;\n",
              "          element.appendChild(docLink);\n",
              "        }\n",
              "      </script>\n",
              "    </div>\n",
              "  </div>\n",
              "  "
            ],
            "text/plain": [
              "   No  X1 transaction date  ...  X6 longitude  Y house price of unit area\n",
              "0   1          2012.916667  ...     121.54024                        37.9\n",
              "1   2          2012.916667  ...     121.53951                        42.2\n",
              "2   3          2013.583333  ...     121.54391                        47.3\n",
              "3   4          2013.500000  ...     121.54391                        54.8\n",
              "4   5          2012.833333  ...     121.54245                        43.1\n",
              "5   6          2012.666667  ...     121.51254                        32.1\n",
              "6   7          2012.666667  ...     121.53642                        40.3\n",
              "7   8          2013.416667  ...     121.54228                        46.7\n",
              "8   9          2013.500000  ...     121.48458                        18.8\n",
              "9  10          2013.416667  ...     121.51486                        22.1\n",
              "\n",
              "[10 rows x 8 columns]"
            ]
          },
          "metadata": {},
          "execution_count": 13
        }
      ]
    },
    {
      "cell_type": "code",
      "execution_count": 61,
      "metadata": {
        "id": "VsYge9T1KW5A",
        "colab": {
          "base_uri": "https://localhost:8080/"
        },
        "outputId": "5ad4a478-ab38-46ee-851d-98092a932667"
      },
      "outputs": [
        {
          "output_type": "stream",
          "name": "stdout",
          "text": [
            "414\n",
            "1.0\n"
          ]
        }
      ],
      "source": [
        "x = data['X2 house age']\n",
        "x = x/x.max()\n",
        "print(len(x))\n",
        "print(max(x))\n",
        "y = data['Y house price of unit area']"
      ]
    },
    {
      "cell_type": "code",
      "execution_count": 48,
      "metadata": {
        "id": "bh5RXXPuKW5A"
      },
      "outputs": [],
      "source": [
        "def pred(thetas, predictores):\n",
        "    h = thetas[0]\n",
        "    for (i, theta) in enumerate(thetas[1:]):\n",
        "        h += theta*predictores[i]\n",
        "    return h\n",
        "\n",
        "def gradient_descent(thetas, tuples, alpha=0.001, iter=10000):\n",
        "    m = len(tuples)\n",
        "\n",
        "    errors = []\n",
        "    for i in range(0, iter):\n",
        "        grad_thetas = [0 for theta in thetas]\n",
        "\n",
        "        # GRADIENTES\n",
        "        for j in range(m):\n",
        "            y = tuples[j][-1]\n",
        "            prediction = pred(thetas, tuples[j][:-1])\n",
        "            \n",
        "            grad_thetas[0] += (prediction - y)\n",
        "            for k in range(1, len(grad_thetas)):\n",
        "                grad_thetas[k] += (prediction-y)*tuples[j][k]\n",
        "\n",
        "        # ACTUALIZACIÓN DE LOS PARÁMETROS THETA\n",
        "        for j in range(len(thetas)):\n",
        "            thetas[j] = thetas[j]-alpha*(grad_thetas[j]/m)      \n",
        "\n",
        "        error = 0\n",
        "        for j in range(m):\n",
        "            y = tuples[j][-1]\n",
        "            prediction = pred(thetas, tuples[j][:-1])\n",
        "            error += (y-prediction)**2\n",
        "        errors.append(error/m)\n",
        "\n",
        "    return thetas, errors"
      ]
    },
    {
      "cell_type": "code",
      "source": [
        "from __future__ import print_function\n",
        "from ipywidgets import interact, interactive, fixed, interact_manual\n",
        "import ipywidgets as widgets"
      ],
      "metadata": {
        "id": "tTLIF7gVv9Di"
      },
      "execution_count": 49,
      "outputs": []
    },
    {
      "cell_type": "code",
      "source": [
        "def f(alpha, epochs):\n",
        "    ini_thetas = [0, 0]\n",
        "    tuples = [(i, j) for (i, j) in zip(x, y)]\n",
        "    fin_thetas, errores= gradient_descent(ini_thetas, tuples, alpha, epochs)\n",
        "    \n",
        "    A = np.column_stack((x,ones))\n",
        "    h = np.matmul(A,fin_thetas)\n",
        "\n",
        "    plt.figure(figsize=(5,4), dpi= 80)\n",
        "    # Graficando Error\n",
        "    plt.plot([i for i in range(epochs)], errores)\n",
        "    plt.xlabel('Epocas')\n",
        "    plt.ylabel('Error cuadratico medio')\n",
        "    plt.show\n",
        "    print(fin_thetas, max(errores))\n",
        "\n",
        "    plt.figure(figsize=(5,4), dpi= 80)\n",
        "    # Graficando la recta\n",
        "    plt.scatter(x, y)\n",
        "    plt.xlabel('Age [years]')\n",
        "    plt.ylabel('Price [dollars/$m^2$]')\n",
        "    plt.plot(x,h,'r')\n",
        "    plt.show\n",
        "\n",
        "\n",
        "interact(f, alpha=widgets.FloatLogSlider(value=0.5, base=10, min=-10, max=1), epochs=widgets.IntSlider(min=0, max=1000, step=1, value=50));"
      ],
      "metadata": {
        "colab": {
          "base_uri": "https://localhost:8080/",
          "height": 678,
          "referenced_widgets": [
            "e4f63d2ce762432d98dbea7e8c2dba2a",
            "8e3abced8fef4515b35db18b798a5f1d",
            "81c78aa37cb14e59857bf1a41b826eb0",
            "f918fb09e5a847228cfd130e813c8d01",
            "17c33b7727de4059af0c3124d36c2f3a",
            "6f1bed7e432e44d9a165cc1e145a1d3a",
            "7ec68681d8a341dcae455b778fed5911",
            "4285adad1694405e90beade48aa3f4c0",
            "8ded9213c55d46f7ac528e7fb5da3915",
            "6045ce40184e4626a7f853fbca7d5e87"
          ]
        },
        "id": "Dtrgu63ov-ak",
        "outputId": "268205ab-12bd-40fc-b41c-f7154e0add04"
      },
      "execution_count": 64,
      "outputs": [
        {
          "output_type": "display_data",
          "data": {
            "application/vnd.jupyter.widget-view+json": {
              "model_id": "e4f63d2ce762432d98dbea7e8c2dba2a",
              "version_minor": 0,
              "version_major": 2
            },
            "text/plain": [
              "interactive(children=(FloatLogSlider(value=0.5, description='alpha', max=1.0, min=-10.0), IntSlider(value=50, …"
            ]
          },
          "metadata": {}
        }
      ]
    }
  ],
  "metadata": {
    "kernelspec": {
      "display_name": "Python 3",
      "language": "python",
      "name": "python3"
    },
    "language_info": {
      "codemirror_mode": {
        "name": "ipython",
        "version": 3
      },
      "file_extension": ".py",
      "mimetype": "text/x-python",
      "name": "python",
      "nbconvert_exporter": "python",
      "pygments_lexer": "ipython3",
      "version": "3.6.4"
    },
    "colab": {
      "name": "EstebanAndrey_machineLearning",
      "provenance": [],
      "collapsed_sections": [],
      "include_colab_link": true
    },
    "widgets": {
      "application/vnd.jupyter.widget-state+json": {
        "e4f63d2ce762432d98dbea7e8c2dba2a": {
          "model_module": "@jupyter-widgets/controls",
          "model_name": "VBoxModel",
          "model_module_version": "1.5.0",
          "state": {
            "_view_name": "VBoxView",
            "_dom_classes": [
              "widget-interact"
            ],
            "_model_name": "VBoxModel",
            "_view_module": "@jupyter-widgets/controls",
            "_model_module_version": "1.5.0",
            "_view_count": null,
            "_view_module_version": "1.5.0",
            "box_style": "",
            "layout": "IPY_MODEL_8e3abced8fef4515b35db18b798a5f1d",
            "_model_module": "@jupyter-widgets/controls",
            "children": [
              "IPY_MODEL_81c78aa37cb14e59857bf1a41b826eb0",
              "IPY_MODEL_f918fb09e5a847228cfd130e813c8d01",
              "IPY_MODEL_17c33b7727de4059af0c3124d36c2f3a"
            ]
          }
        },
        "8e3abced8fef4515b35db18b798a5f1d": {
          "model_module": "@jupyter-widgets/base",
          "model_name": "LayoutModel",
          "model_module_version": "1.2.0",
          "state": {
            "_view_name": "LayoutView",
            "grid_template_rows": null,
            "right": null,
            "justify_content": null,
            "_view_module": "@jupyter-widgets/base",
            "overflow": null,
            "_model_module_version": "1.2.0",
            "_view_count": null,
            "flex_flow": null,
            "width": null,
            "min_width": null,
            "border": null,
            "align_items": null,
            "bottom": null,
            "_model_module": "@jupyter-widgets/base",
            "top": null,
            "grid_column": null,
            "overflow_y": null,
            "overflow_x": null,
            "grid_auto_flow": null,
            "grid_area": null,
            "grid_template_columns": null,
            "flex": null,
            "_model_name": "LayoutModel",
            "justify_items": null,
            "grid_row": null,
            "max_height": null,
            "align_content": null,
            "visibility": null,
            "align_self": null,
            "height": null,
            "min_height": null,
            "padding": null,
            "grid_auto_rows": null,
            "grid_gap": null,
            "max_width": null,
            "order": null,
            "_view_module_version": "1.2.0",
            "grid_template_areas": null,
            "object_position": null,
            "object_fit": null,
            "grid_auto_columns": null,
            "margin": null,
            "display": null,
            "left": null
          }
        },
        "81c78aa37cb14e59857bf1a41b826eb0": {
          "model_module": "@jupyter-widgets/controls",
          "model_name": "FloatLogSliderModel",
          "model_module_version": "1.5.0",
          "state": {
            "_view_name": "FloatLogSliderView",
            "orientation": "horizontal",
            "_view_module": "@jupyter-widgets/controls",
            "_model_module_version": "1.5.0",
            "_view_count": null,
            "disabled": false,
            "readout_format": ".3g",
            "_model_module": "@jupyter-widgets/controls",
            "style": "IPY_MODEL_6f1bed7e432e44d9a165cc1e145a1d3a",
            "layout": "IPY_MODEL_7ec68681d8a341dcae455b778fed5911",
            "min": -10,
            "continuous_update": true,
            "description_tooltip": null,
            "_dom_classes": [],
            "description": "alpha",
            "_model_name": "FloatLogSliderModel",
            "max": 1,
            "readout": true,
            "step": 0.1,
            "base": 10,
            "value": 0.0012589254117941675,
            "_view_module_version": "1.5.0"
          }
        },
        "f918fb09e5a847228cfd130e813c8d01": {
          "model_module": "@jupyter-widgets/controls",
          "model_name": "IntSliderModel",
          "model_module_version": "1.5.0",
          "state": {
            "_view_name": "IntSliderView",
            "style": "IPY_MODEL_4285adad1694405e90beade48aa3f4c0",
            "_dom_classes": [],
            "description": "epochs",
            "step": 1,
            "_model_name": "IntSliderModel",
            "orientation": "horizontal",
            "max": 1000,
            "_view_module": "@jupyter-widgets/controls",
            "_model_module_version": "1.5.0",
            "value": 44,
            "_view_count": null,
            "disabled": false,
            "_view_module_version": "1.5.0",
            "min": 0,
            "continuous_update": true,
            "readout_format": "d",
            "description_tooltip": null,
            "readout": true,
            "_model_module": "@jupyter-widgets/controls",
            "layout": "IPY_MODEL_8ded9213c55d46f7ac528e7fb5da3915"
          }
        },
        "17c33b7727de4059af0c3124d36c2f3a": {
          "model_module": "@jupyter-widgets/output",
          "model_name": "OutputModel",
          "model_module_version": "1.0.0",
          "state": {
            "_view_name": "OutputView",
            "msg_id": "",
            "_dom_classes": [],
            "_model_name": "OutputModel",
            "outputs": [
              {
                "output_type": "stream",
                "name": "stdout",
                "text": [
                  "[1.2981671028266157, 60.939398388597056] 1564.7230051187407\n"
                ]
              },
              {
                "output_type": "display_data",
                "data": {
                  "image/png": "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\n",
                  "text/plain": "<Figure size 400x320 with 1 Axes>"
                },
                "metadata": {
                  "needs_background": "light"
                }
              },
              {
                "output_type": "display_data",
                "data": {
                  "image/png": "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\n",
                  "text/plain": "<Figure size 400x320 with 1 Axes>"
                },
                "metadata": {
                  "needs_background": "light"
                }
              }
            ],
            "_view_module": "@jupyter-widgets/output",
            "_model_module_version": "1.0.0",
            "_view_count": null,
            "_view_module_version": "1.0.0",
            "layout": "IPY_MODEL_6045ce40184e4626a7f853fbca7d5e87",
            "_model_module": "@jupyter-widgets/output"
          }
        },
        "6f1bed7e432e44d9a165cc1e145a1d3a": {
          "model_module": "@jupyter-widgets/controls",
          "model_name": "SliderStyleModel",
          "model_module_version": "1.5.0",
          "state": {
            "_view_name": "StyleView",
            "handle_color": null,
            "_model_name": "SliderStyleModel",
            "description_width": "",
            "_view_module": "@jupyter-widgets/base",
            "_model_module_version": "1.5.0",
            "_view_count": null,
            "_view_module_version": "1.2.0",
            "_model_module": "@jupyter-widgets/controls"
          }
        },
        "7ec68681d8a341dcae455b778fed5911": {
          "model_module": "@jupyter-widgets/base",
          "model_name": "LayoutModel",
          "model_module_version": "1.2.0",
          "state": {
            "_view_name": "LayoutView",
            "grid_template_rows": null,
            "right": null,
            "justify_content": null,
            "_view_module": "@jupyter-widgets/base",
            "overflow": null,
            "_model_module_version": "1.2.0",
            "_view_count": null,
            "flex_flow": null,
            "width": null,
            "min_width": null,
            "border": null,
            "align_items": null,
            "bottom": null,
            "_model_module": "@jupyter-widgets/base",
            "top": null,
            "grid_column": null,
            "overflow_y": null,
            "overflow_x": null,
            "grid_auto_flow": null,
            "grid_area": null,
            "grid_template_columns": null,
            "flex": null,
            "_model_name": "LayoutModel",
            "justify_items": null,
            "grid_row": null,
            "max_height": null,
            "align_content": null,
            "visibility": null,
            "align_self": null,
            "height": null,
            "min_height": null,
            "padding": null,
            "grid_auto_rows": null,
            "grid_gap": null,
            "max_width": null,
            "order": null,
            "_view_module_version": "1.2.0",
            "grid_template_areas": null,
            "object_position": null,
            "object_fit": null,
            "grid_auto_columns": null,
            "margin": null,
            "display": null,
            "left": null
          }
        },
        "4285adad1694405e90beade48aa3f4c0": {
          "model_module": "@jupyter-widgets/controls",
          "model_name": "SliderStyleModel",
          "model_module_version": "1.5.0",
          "state": {
            "_view_name": "StyleView",
            "handle_color": null,
            "_model_name": "SliderStyleModel",
            "description_width": "",
            "_view_module": "@jupyter-widgets/base",
            "_model_module_version": "1.5.0",
            "_view_count": null,
            "_view_module_version": "1.2.0",
            "_model_module": "@jupyter-widgets/controls"
          }
        },
        "8ded9213c55d46f7ac528e7fb5da3915": {
          "model_module": "@jupyter-widgets/base",
          "model_name": "LayoutModel",
          "model_module_version": "1.2.0",
          "state": {
            "_view_name": "LayoutView",
            "grid_template_rows": null,
            "right": null,
            "justify_content": null,
            "_view_module": "@jupyter-widgets/base",
            "overflow": null,
            "_model_module_version": "1.2.0",
            "_view_count": null,
            "flex_flow": null,
            "width": null,
            "min_width": null,
            "border": null,
            "align_items": null,
            "bottom": null,
            "_model_module": "@jupyter-widgets/base",
            "top": null,
            "grid_column": null,
            "overflow_y": null,
            "overflow_x": null,
            "grid_auto_flow": null,
            "grid_area": null,
            "grid_template_columns": null,
            "flex": null,
            "_model_name": "LayoutModel",
            "justify_items": null,
            "grid_row": null,
            "max_height": null,
            "align_content": null,
            "visibility": null,
            "align_self": null,
            "height": null,
            "min_height": null,
            "padding": null,
            "grid_auto_rows": null,
            "grid_gap": null,
            "max_width": null,
            "order": null,
            "_view_module_version": "1.2.0",
            "grid_template_areas": null,
            "object_position": null,
            "object_fit": null,
            "grid_auto_columns": null,
            "margin": null,
            "display": null,
            "left": null
          }
        },
        "6045ce40184e4626a7f853fbca7d5e87": {
          "model_module": "@jupyter-widgets/base",
          "model_name": "LayoutModel",
          "model_module_version": "1.2.0",
          "state": {
            "_view_name": "LayoutView",
            "grid_template_rows": null,
            "right": null,
            "justify_content": null,
            "_view_module": "@jupyter-widgets/base",
            "overflow": null,
            "_model_module_version": "1.2.0",
            "_view_count": null,
            "flex_flow": null,
            "width": null,
            "min_width": null,
            "border": null,
            "align_items": null,
            "bottom": null,
            "_model_module": "@jupyter-widgets/base",
            "top": null,
            "grid_column": null,
            "overflow_y": null,
            "overflow_x": null,
            "grid_auto_flow": null,
            "grid_area": null,
            "grid_template_columns": null,
            "flex": null,
            "_model_name": "LayoutModel",
            "justify_items": null,
            "grid_row": null,
            "max_height": null,
            "align_content": null,
            "visibility": null,
            "align_self": null,
            "height": null,
            "min_height": null,
            "padding": null,
            "grid_auto_rows": null,
            "grid_gap": null,
            "max_width": null,
            "order": null,
            "_view_module_version": "1.2.0",
            "grid_template_areas": null,
            "object_position": null,
            "object_fit": null,
            "grid_auto_columns": null,
            "margin": null,
            "display": null,
            "left": null
          }
        }
      }
    }
  },
  "nbformat": 4,
  "nbformat_minor": 0
}