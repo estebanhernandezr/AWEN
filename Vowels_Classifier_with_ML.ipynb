{
  "nbformat": 4,
  "nbformat_minor": 0,
  "metadata": {
    "colab": {
      "name": "Vowels_Classifier_with_ML",
      "provenance": [],
      "collapsed_sections": [
        "BVgmzJ0AugWB",
        "Qcj0T8d0ZT1y",
        "rJRZL5ylZdKK"
      ],
      "authorship_tag": "ABX9TyMIhVdKl5TVC/oUayI6UcHQ",
      "include_colab_link": true
    },
    "kernelspec": {
      "name": "python3",
      "display_name": "Python 3"
    },
    "language_info": {
      "name": "python"
    }
  },
  "cells": [
    {
      "cell_type": "markdown",
      "metadata": {
        "id": "view-in-github",
        "colab_type": "text"
      },
      "source": [
        "<a href=\"https://colab.research.google.com/github/estebanhernandezr/AWEN/blob/main/Vowels_Classifier_with_ML.ipynb\" target=\"_parent\"><img src=\"https://colab.research.google.com/assets/colab-badge.svg\" alt=\"Open In Colab\"/></a>"
      ]
    },
    {
      "cell_type": "markdown",
      "source": [
        "#**Imports and GitHub**"
      ],
      "metadata": {
        "id": "BVgmzJ0AugWB"
      }
    },
    {
      "cell_type": "code",
      "source": [
        "!git clone https://github.com/AllenDowney/ThinkDSP.git "
      ],
      "metadata": {
        "colab": {
          "base_uri": "https://localhost:8080/"
        },
        "id": "1rIF9wlZuErj",
        "outputId": "ebbc130f-e071-42a1-9f65-0deab3158f04"
      },
      "execution_count": 7,
      "outputs": [
        {
          "output_type": "stream",
          "name": "stdout",
          "text": [
            "fatal: destination path 'ThinkDSP' already exists and is not an empty directory.\n"
          ]
        }
      ]
    },
    {
      "cell_type": "code",
      "source": [
        "!git clone https://github.com/Tyler-Hilbert/AudioProcessingInPythonWorkshop.git"
      ],
      "metadata": {
        "colab": {
          "base_uri": "https://localhost:8080/"
        },
        "id": "twNKWGwTtqdI",
        "outputId": "3782d95c-0146-4970-8288-ff5595e427e0"
      },
      "execution_count": 8,
      "outputs": [
        {
          "output_type": "stream",
          "name": "stdout",
          "text": [
            "fatal: destination path 'AudioProcessingInPythonWorkshop' already exists and is not an empty directory.\n"
          ]
        }
      ]
    },
    {
      "cell_type": "code",
      "execution_count": 9,
      "metadata": {
        "id": "kD5T7pNtZRTb"
      },
      "outputs": [],
      "source": [
        "import numpy as np\n",
        "import os\n",
        "from google.colab import drive\n",
        "sys.path.insert(0, 'ThinkDSP/code/')\n",
        "import sys\n",
        "import thinkdsp\n",
        "import matplotlib.pyplot as pyplot\n",
        "import IPython"
      ]
    },
    {
      "cell_type": "markdown",
      "source": [
        "#**Importación de los datos**"
      ],
      "metadata": {
        "id": "Qcj0T8d0ZT1y"
      }
    },
    {
      "cell_type": "markdown",
      "source": [
        "Para empezar, debemos cargar la base de datos desde *google drive*. Para esto, utilizamos el modulo **drive**. Una vez realizada la interfaz desde *colab*, navegamos entre las carpetas hasta la ruta: ***content/drive/My Drive/Proyecto Clasificación de Vocales)***."
      ],
      "metadata": {
        "id": "28oPz59edyIe"
      }
    },
    {
      "cell_type": "code",
      "source": [
        "drive.mount('/content/drive', force_remount=True)"
      ],
      "metadata": {
        "colab": {
          "base_uri": "https://localhost:8080/"
        },
        "id": "5HytpEerZ-Zq",
        "outputId": "8763b6ea-6ec9-49b0-9aec-27860dbef8e2"
      },
      "execution_count": 10,
      "outputs": [
        {
          "output_type": "stream",
          "name": "stdout",
          "text": [
            "Mounted at /content/drive\n"
          ]
        }
      ]
    },
    {
      "cell_type": "markdown",
      "source": [
        "A continuación, accedemos al contenido de la ruta. Nos percatamos de que en ella existen tres carpetas: **A**, **E**, **I**, **O** Y **U**, cada una de las cuales contiene una colección de notas de voz de *Whatsapp* (archivos **.ogg**). Estos archivos corresponden a una muestra aleatoria tomada por los estudiantes del curso de *Aprendizaje Automático de Máquina*, compuesta en su mayoría por voces de jovenes adultos (compañeros de **MACC**)."
      ],
      "metadata": {
        "id": "iWq9ZByMe70p"
      }
    },
    {
      "cell_type": "code",
      "source": [
        "!ls \"/content/drive/My Drive/Proyecto Clasificación de Vocales\""
      ],
      "metadata": {
        "colab": {
          "base_uri": "https://localhost:8080/"
        },
        "id": "pdFcQb9jdwLE",
        "outputId": "6e3e13cd-6cf0-4627-e256-4a22bce002d5"
      },
      "execution_count": 11,
      "outputs": [
        {
          "output_type": "stream",
          "name": "stdout",
          "text": [
            "A  E  I  O  U\n"
          ]
        }
      ]
    },
    {
      "cell_type": "markdown",
      "source": [
        "Accediendo al contenido de la carpeta **A**"
      ],
      "metadata": {
        "id": "2PeDSPwthwOZ"
      }
    },
    {
      "cell_type": "code",
      "source": [
        "!ls \"/content/drive/My Drive/Proyecto Clasificación de Vocales/A\""
      ],
      "metadata": {
        "colab": {
          "base_uri": "https://localhost:8080/"
        },
        "id": "GtYEC6dLhgns",
        "outputId": "b77ea776-3b47-4630-9288-98c1addb93ba"
      },
      "execution_count": 12,
      "outputs": [
        {
          "output_type": "stream",
          "name": "stdout",
          "text": [
            " A_001.wav   A_035.wav\t A_069.wav\n",
            " A_002.wav   A_036.wav\t A_070.wav\n",
            " A_003.wav   A_037.wav\t A_071.wav\n",
            " A_004.wav   A_038.wav\t A_075.wav\n",
            " A_005.wav   A_039.wav\t A_076.wav\n",
            " A_006.wav   A_040.wav\t A_077.wav\n",
            " A_007.wav   A_041.wav\t A_078.wav\n",
            " A_008.wav   A_042.wav\t A_080.wav\n",
            " A_009.wav   A_043.wav\t A_082.wav\n",
            " A_010.wav   A_044.wav\t A_083.wav\n",
            " A_011.wav   A_045.wav\t A_084.wav\n",
            " A_012.wav   A_046.wav\t A_085.wav\n",
            " A_013.wav   A_047.wav\t A_086.wav\n",
            " A_014.wav   A_048.wav\t A_088.wav\n",
            " A_015.wav   A_049.wav\t A_100.wav\n",
            " A_016.wav   A_050.wav\t A_94.wav\n",
            " A_017.wav   A_051.wav\t A_98.wav\n",
            " A_018.wav   A_052.wav\t A_99.wav\n",
            " A_019.wav   A_053.wav\t'WhatsApp Audio 2022-03-20 at 5.19.25 PM.ogg'\n",
            " A_020.wav   A_054.wav\t'WhatsApp Audio 2022-03-20 at 5.45.21 PM.ogg'\n",
            " A_021.wav   A_055.wav\t'WhatsApp Audio 2022-03-20 at 6.12.05 PM.ogg'\n",
            " A_022.wav   A_056.wav\t'WhatsApp Ptt 2022-03-18 at 11.54.54 PM.ogg'\n",
            " A_023.wav   A_057.wav\t'WhatsApp Ptt 2022-03-18 at 4.49.41 PM.ogg'\n",
            " A_024.wav   A_058.wav\t'WhatsApp Ptt 2022-03-19 at 2.14.32 PM.ogg'\n",
            " A_025.wav   A_059.wav\t'WhatsApp Ptt 2022-03-19 at 8.13.15 AM.ogg'\n",
            " A_026.wav   A_060.wav\t'WhatsApp Ptt 2022-03-20 at 5.11.36 PM.ogg'\n",
            " A_027.wav   A_061.wav\t'WhatsApp Ptt 2022-03-20 at 5.13.14 PM.ogg'\n",
            " A_028.wav   A_062.wav\t'WhatsApp Ptt 2022-03-20 at 5.15.11 PM.ogg'\n",
            " A_029.wav   A_063.wav\t'WhatsApp Ptt 2022-03-20 at 5.15.51 PM.ogg'\n",
            " A_030.wav   A_064.wav\t'WhatsApp Ptt 2022-03-20 at 5.24.57 PM.ogg'\n",
            " A_031.wav   A_065.wav\t'WhatsApp Ptt 2022-03-20 at 5.31.24 PM.ogg'\n",
            " A_032.wav   A_066.wav\t'WhatsApp Ptt 2022-03-20 at 7.31.12 PM.ogg'\n",
            " A_033.wav   A_067.wav\n",
            " A_034.wav   A_068.wav\n"
          ]
        }
      ]
    },
    {
      "cell_type": "code",
      "source": [
        "path_A = '/content/drive/My Drive/Proyecto Clasificación de Vocales/A'\n",
        "dir_path_A = os.path.dirname(os.path.realpath(path_A))\n",
        "A_records = []\n",
        "for root, dirs, files in os.walk(dir_path_A):\n",
        "    for record in files:\n",
        "        if record.startswith('A'):\n",
        "            A_records.append(record)"
      ],
      "metadata": {
        "id": "aMKcWK6-h_xC"
      },
      "execution_count": 13,
      "outputs": []
    },
    {
      "cell_type": "markdown",
      "source": [
        "Accediendo al contenido de la carpeta **E**"
      ],
      "metadata": {
        "id": "nY47AKtLh2-o"
      }
    },
    {
      "cell_type": "code",
      "source": [
        "!ls \"/content/drive/My Drive/Proyecto Clasificación de Vocales/E\""
      ],
      "metadata": {
        "colab": {
          "base_uri": "https://localhost:8080/"
        },
        "id": "OXdWHv7Yfi2B",
        "outputId": "b4e614db-ef9a-4f5e-f3e7-b3879efaa6a1"
      },
      "execution_count": 14,
      "outputs": [
        {
          "output_type": "stream",
          "name": "stdout",
          "text": [
            " E_001.wav   E_035.wav\t E_068.wav\n",
            " E_002.wav   E_036.wav\t E_069.wav\n",
            " E_004.wav   E_037.wav\t E_070.wav\n",
            " E_005.wav   E_038.wav\t E_071.wav\n",
            " E_006.wav   E_039.wav\t E_075.wav\n",
            " E_007.wav   E_040.wav\t E_076.wav\n",
            " E_008.wav   E_041.wav\t E_077.wav\n",
            " E_009.wav   E_042.wav\t E_080.wav\n",
            " E_010.wav   E_043.wav\t E_100.wav\n",
            " E_011.wav   E_044.wav\t E_82.wav\n",
            " E_012.wav   E_045.wav\t E_83.wav\n",
            " E_013.wav   E_046.wav\t E_84.wav\n",
            " E_014.wav   E_047.wav\t E_85.wav\n",
            " E_015.wav   E_048.wav\t E_86.wav\n",
            " E_016.wav   E_049.wav\t E_87.wav\n",
            " E_017.wav   E_050.wav\t E_99.wav\n",
            " E_018.wav   E_051.wav\t'WhatsApp Audio 2022-03-20 at 5.19.25 PM.ogg'\n",
            " E_019.wav   E_052.wav\t'WhatsApp Audio 2022-03-20 at 5.45.25 PM.ogg'\n",
            " E_020.wav   E_053.wav\t'WhatsApp Audio 2022-03-20 at 6.12.05 PM (1).ogg'\n",
            " E_021.wav   E_054.wav\t'WhatsApp Ptt 2022-03-18 at 11.55.12 PM.ogg'\n",
            " E_022.wav   E_055.wav\t'WhatsApp Ptt 2022-03-18 at 4.21.47 PM.ogg'\n",
            " E_023.wav   E_056.wav\t'WhatsApp Ptt 2022-03-18 at 4.49.54 PM.ogg'\n",
            " E_024.wav   E_057.wav\t'WhatsApp Ptt 2022-03-19 at 2.14.39 PM.ogg'\n",
            " E_025.wav   E_058.wav\t'WhatsApp Ptt 2022-03-19 at 8.13.18 AM.ogg'\n",
            " E_026.wav   E_059.wav\t'WhatsApp Ptt 2022-03-20 at 11.01.11 PM.ogg'\n",
            " E_027.wav   E_060.wav\t'WhatsApp Ptt 2022-03-20 at 5.11.41 PM.ogg'\n",
            " E_028.wav   E_061.wav\t'WhatsApp Ptt 2022-03-20 at 5.13.17 PM.ogg'\n",
            " E_029.wav   E_062.wav\t'WhatsApp Ptt 2022-03-20 at 5.15.16 PM.ogg'\n",
            " E_030.wav   E_063.wav\t'WhatsApp Ptt 2022-03-20 at 5.15.56 PM.ogg'\n",
            " E_031.wav   E_064.wav\t'WhatsApp Ptt 2022-03-20 at 5.21.38 PM.ogg'\n",
            " E_032.wav   E_065.wav\t'WhatsApp Ptt 2022-03-20 at 5.25.00 PM.ogg'\n",
            " E_033.wav   E_066.wav\t'WhatsApp Ptt 2022-03-20 at 5.34.47 PM.ogg'\n",
            " E_034.wav   E_067.wav\t'WhatsApp Ptt 2022-03-20 at 7.31.18 PM.ogg'\n"
          ]
        }
      ]
    },
    {
      "cell_type": "code",
      "source": [
        "path_E = '/content/drive/My Drive/Proyecto Clasificación de Vocales/E'\n",
        "dir_path_E = os.path.dirname(os.path.realpath(path_E))\n",
        "E_records = []\n",
        "for root, dirs, files in os.walk(dir_path_E):\n",
        "    for record in files:\n",
        "        if record.startswith('E'):\n",
        "            E_records.append(record)"
      ],
      "metadata": {
        "id": "AhhNSo5gi47O"
      },
      "execution_count": 15,
      "outputs": []
    },
    {
      "cell_type": "markdown",
      "source": [
        "Accediendo al contenido de la carpeta **I**"
      ],
      "metadata": {
        "id": "W4eHXLolh4tA"
      }
    },
    {
      "cell_type": "code",
      "source": [
        "!ls \"/content/drive/My Drive/Proyecto Clasificación de Vocales/I\""
      ],
      "metadata": {
        "colab": {
          "base_uri": "https://localhost:8080/"
        },
        "id": "RlwwjWs1hkWV",
        "outputId": "b51e374e-d728-48bd-fa78-27ed80161c3c"
      },
      "execution_count": 16,
      "outputs": [
        {
          "output_type": "stream",
          "name": "stdout",
          "text": [
            " I_001.wav   I_034.wav\t I_068.wav\n",
            " I_002.wav   I_035.wav\t I_069.wav\n",
            " I_003.wav   I_036.wav\t I_070.wav\n",
            " I_004.wav   I_037.wav\t I_071.wav\n",
            " I_005.wav   I_038.wav\t I_100.wav\n",
            " I_006.wav   I_039.wav\t I_75.wav\n",
            " I_007.wav   I_040.wav\t I_76.wav\n",
            " I_008.wav   I_041.wav\t I_77.wav\n",
            " I_009.wav   I_042.wav\t I_80.wav\n",
            " I_010.wav   I_043.wav\t I_82.wav\n",
            " I_011.wav   I_044.wav\t I_83.wav\n",
            " I_012.wav   I_045.wav\t I_84.wav\n",
            " I_013.wav   I_046.wav\t I_85.wav\n",
            " I_014.wav   I_047.wav\t I_86.wav\n",
            " I_015.wav   I_048.wav\t I_87.wav\n",
            " I_016.wav   I_050.wav\t I_99.wav\n",
            " I_017.wav   I_051.wav\t'WhatsApp Audio 2022-03-20 at 5.19.25 PM.ogg'\n",
            " I_018.wav   I_052.wav\t'WhatsApp Audio 2022-03-20 at 5.45.27 PM.ogg'\n",
            " I_019.wav   I_053.wav\t'WhatsApp Audio 2022-03-20 at 6.12.05 PM.ogg'\n",
            " I_020.wav   I_054.wav\t'WhatsApp Ptt 2022-03-18 at 11.58.11 PM.ogg'\n",
            " I_021.wav   I_055.wav\t'WhatsApp Ptt 2022-03-18 at 4.21.55 PM.ogg'\n",
            " I_022.wav   I_056.wav\t'WhatsApp Ptt 2022-03-18 at 4.49.54 PM (1).ogg'\n",
            " I_023.wav   I_057.wav\t'WhatsApp Ptt 2022-03-19 at 2.14.45 PM.ogg'\n",
            " I_024.wav   I_058.wav\t'WhatsApp Ptt 2022-03-19 at 8.13.18 AM (1).ogg'\n",
            " I_025.wav   I_059.wav\t'WhatsApp Ptt 2022-03-20 at 11.01.17 PM.ogg'\n",
            " I_026.wav   I_060.wav\t'WhatsApp Ptt 2022-03-20 at 5.11.46 PM.ogg'\n",
            " I_027.wav   I_061.wav\t'WhatsApp Ptt 2022-03-20 at 5.13.22 PM.ogg'\n",
            " I_028.wav   I_062.wav\t'WhatsApp Ptt 2022-03-20 at 5.15.21 PM.ogg'\n",
            " I_029.wav   I_063.wav\t'WhatsApp Ptt 2022-03-20 at 5.16.00 PM.ogg'\n",
            " I_030.wav   I_064.wav\t'WhatsApp Ptt 2022-03-20 at 5.21.45 PM.ogg'\n",
            " I_031.wav   I_065.wav\t'WhatsApp Ptt 2022-03-20 at 5.25.03 PM.ogg'\n",
            " I_032.wav   I_066.wav\t'WhatsApp Ptt 2022-03-20 at 5.32.10 PM.ogg'\n",
            " I_033.wav   I_067.wav\t'WhatsApp Ptt 2022-03-20 at 7.31.23 PM.ogg'\n"
          ]
        }
      ]
    },
    {
      "cell_type": "code",
      "source": [
        "path_I = '/content/drive/My Drive/Proyecto Clasificación de Vocales/I'\n",
        "dir_path_I = os.path.dirname(os.path.realpath(path_I))\n",
        "I_records = []\n",
        "for root, dirs, files in os.walk(dir_path_I):\n",
        "    for record in files:\n",
        "        if record.startswith('I'):\n",
        "            I_records.append(record)"
      ],
      "metadata": {
        "id": "2wyGfuzXjGrF"
      },
      "execution_count": 17,
      "outputs": []
    },
    {
      "cell_type": "markdown",
      "source": [
        "Accediendo al contenido de la carpeta **O**"
      ],
      "metadata": {
        "id": "AKN1WS4Hh6kp"
      }
    },
    {
      "cell_type": "code",
      "source": [
        "!ls \"/content/drive/My Drive/Proyecto Clasificación de Vocales/O\""
      ],
      "metadata": {
        "colab": {
          "base_uri": "https://localhost:8080/"
        },
        "id": "P3ExeLu4hl4f",
        "outputId": "978bcf0d-8fbb-40c9-9c73-43967c1aa338"
      },
      "execution_count": 18,
      "outputs": [
        {
          "output_type": "stream",
          "name": "stdout",
          "text": [
            " O_001.wav   O_035.wav\t O_068.wav\n",
            " O_002.wav   O_036.wav\t O_069.wav\n",
            " O_003.wav   O_037.wav\t O_070.wav\n",
            " O_004.wav   O_038.wav\t O_071.wav\n",
            " O_005.wav   O_039.wav\t O_100.wav\n",
            " O_006.wav   O_040.wav\t O_75.wav\n",
            " O_007.wav   O_041.wav\t O_76.wav\n",
            " O_008.wav   O_042.wav\t O_77.wav\n",
            " O_009.wav   O_043.wav\t O_80.wav\n",
            " O_010.wav   O_044.wav\t O_82.wav\n",
            " O_011.wav   O_045.wav\t O_83.wav\n",
            " O_012.wav   O_046.wav\t O_84.wav\n",
            " O_013.wav   O_047.wav\t O_85.wav\n",
            " O_015.wav   O_048.wav\t O_86.wav\n",
            " O_016.wav   O_049.wav\t O_87.wav\n",
            " O_017.wav   O_050.wav\t O_97.wav\n",
            " O_018.wav   O_051.wav\t O_99.wav\n",
            " O_019.wav   O_052.wav\t'WhatsApp Audio 2022-03-20 at 5.19.25 PM.ogg'\n",
            " O_020.wav   O_053.wav\t'WhatsApp Audio 2022-03-20 at 5.45.30 PM.ogg'\n",
            " O_021.wav   O_054.wav\t'WhatsApp Audio 2022-03-20 at 6.12.06 PM.ogg'\n",
            " O_022.wav   O_055.wav\t'WhatsApp Ptt 2022-03-18 at 11.58.26 PM.ogg'\n",
            " O_023.wav   O_056.wav\t'WhatsApp Ptt 2022-03-18 at 4.22.02 PM.ogg'\n",
            " O_024.wav   O_057.wav\t'WhatsApp Ptt 2022-03-18 at 4.50.21 PM.ogg'\n",
            " O_025.wav   O_058.wav\t'WhatsApp Ptt 2022-03-19 at 2.14.50 PM.ogg'\n",
            " O_026.wav   O_059.wav\t'WhatsApp Ptt 2022-03-19 at 8.13.25 AM.ogg'\n",
            " O_027.wav   O_060.wav\t'WhatsApp Ptt 2022-03-20 at 11.01.22 PM.ogg'\n",
            " O_028.wav   O_061.wav\t'WhatsApp Ptt 2022-03-20 at 5.11.51 PM.ogg'\n",
            " O_029.wav   O_062.wav\t'WhatsApp Ptt 2022-03-20 at 5.13.26 PM.ogg'\n",
            " O_030.wav   O_063.wav\t'WhatsApp Ptt 2022-03-20 at 5.15.25 PM.ogg'\n",
            " O_031.wav   O_064.wav\t'WhatsApp Ptt 2022-03-20 at 5.16.04 PM.ogg'\n",
            " O_032.wav   O_065.wav\t'WhatsApp Ptt 2022-03-20 at 5.21.51 PM.ogg'\n",
            " O_033.wav   O_066.wav\t'WhatsApp Ptt 2022-03-20 at 5.25.07 PM.ogg'\n",
            " O_034.wav   O_067.wav\t'WhatsApp Ptt 2022-03-20 at 5.32.16 PM.ogg'\n"
          ]
        }
      ]
    },
    {
      "cell_type": "code",
      "source": [
        "path_O = '/content/drive/My Drive/Proyecto Clasificación de Vocales/O'\n",
        "dir_path_O = os.path.dirname(os.path.realpath(path_O))\n",
        "O_records = []\n",
        "for root, dirs, files in os.walk(dir_path_O):\n",
        "    for record in files:\n",
        "        if record.startswith('O'):\n",
        "            O_records.append(record)"
      ],
      "metadata": {
        "id": "1YmlK6ibjL3a"
      },
      "execution_count": 19,
      "outputs": []
    },
    {
      "cell_type": "markdown",
      "source": [
        "Accediendo al contenido de la carpeta **U**"
      ],
      "metadata": {
        "id": "X5wPmgoyh8GG"
      }
    },
    {
      "cell_type": "code",
      "source": [
        "!ls \"/content/drive/My Drive/Proyecto Clasificación de Vocales/U\""
      ],
      "metadata": {
        "colab": {
          "base_uri": "https://localhost:8080/"
        },
        "id": "0gwYQCvfhn1A",
        "outputId": "eefe9cb4-3bff-4f51-bdd6-6bfdef35a907"
      },
      "execution_count": 20,
      "outputs": [
        {
          "output_type": "stream",
          "name": "stdout",
          "text": [
            " U_001.wav    U_035.wav   U_069.wav\n",
            " U_002.wav    U_036.wav   U_070.wav\n",
            " U_003.wav    U_037.wav   U_071.wav\n",
            " U_004.wav    U_038.wav   U_100.wav\n",
            " U_005.wav    U_039.wav   U_75.wav\n",
            " U_006.wav    U_040.wav   U_76.wav\n",
            " U_007.wav    U_041.wav   U_77.wav\n",
            " U_008.wav    U_042.wav   U_81.wav\n",
            " U_009.wav    U_043.wav   U_83.wav\n",
            " U_010.wav    U_044.wav   U_84.wav\n",
            " U_011.wav    U_045.wav   U_85.wav\n",
            " U_012.wav    U_046.wav   U_86.wav\n",
            " U_013.wav    U_047.wav   U_87.wav\n",
            " U_014.wav    U_048.wav   U_88.wav\n",
            " U_015.wav    U_049.wav  'WhatsApp Audio 2022-03-20 at 5.19.25 PM.ogg'\n",
            " U_016.wav    U_050.wav  'WhatsApp Audio 2022-03-20 at 5.45.32 PM.ogg'\n",
            " U_017.wav    U_051.wav  'WhatsApp Audio 2022-03-20 at 6.12.06 PM (1).ogg'\n",
            " U_018.wav    U_052.wav  'WhatsApp Ptt 2022-03-18 at 11.58.37 PM.ogg'\n",
            " U_019.wav    U_053.wav  'WhatsApp Ptt 2022-03-18 at 4.22.07 PM.ogg'\n",
            " U_020.wav    U_054.wav  'WhatsApp Ptt 2022-03-18 at 4.22.48 PM.ogg'\n",
            " U_021.wav    U_055.wav  'WhatsApp Ptt 2022-03-18 at 4.50.32 PM.ogg'\n",
            " U_022.wav    U_056.wav  'WhatsApp Ptt 2022-03-19 at 2.14.58 PM.ogg'\n",
            " U_023.wav    U_057.wav  'WhatsApp Ptt 2022-03-19 at 8.13.33 AM.ogg'\n",
            " U_024.wav    U_058.wav  'WhatsApp Ptt 2022-03-20 at 11.01.28 PM.ogg'\n",
            " U_025.wav    U_059.wav  'WhatsApp Ptt 2022-03-20 at 5.12.02 PM.ogg'\n",
            " U_026.wav    U_060.wav  'WhatsApp Ptt 2022-03-20 at 5.13.30 PM.ogg'\n",
            " U_027.wav    U_061.wav  'WhatsApp Ptt 2022-03-20 at 5.15.29 PM.ogg'\n",
            " U_028.wav    U_062.wav  'WhatsApp Ptt 2022-03-20 at 5.16.08 PM.ogg'\n",
            " U_029.wav    U_063.wav  'WhatsApp Ptt 2022-03-20 at 5.22.33 PM.ogg'\n",
            " U_030}.wav   U_064.wav  'WhatsApp Ptt 2022-03-20 at 5.25.10 PM.ogg'\n",
            " U_031.wav    U_065.wav  'WhatsApp Ptt 2022-03-20 at 5.32.19 PM.ogg'\n",
            " U_032.wav    U_066.wav  'WhatsApp Ptt 2022-03-20 at 7.32.19 PM.ogg'\n",
            " U_033.wav    U_067.wav\n",
            " U_034.wav    U_068.wav\n"
          ]
        }
      ]
    },
    {
      "cell_type": "code",
      "source": [
        "path_U = '/content/drive/My Drive/Proyecto Clasificación de Vocales/U'\n",
        "dir_path_U = os.path.dirname(os.path.realpath(path_U))\n",
        "U_records = []\n",
        "for root, dirs, files in os.walk(dir_path_U):\n",
        "    for record in files:\n",
        "        if record.startswith('U'):\n",
        "            U_records.append(record)"
      ],
      "metadata": {
        "id": "oaXF06-ahr9T"
      },
      "execution_count": 21,
      "outputs": []
    },
    {
      "cell_type": "markdown",
      "source": [
        "#**Visualización de los datos**"
      ],
      "metadata": {
        "id": "7so9RYgyZX_S"
      }
    },
    {
      "cell_type": "markdown",
      "source": [
        "A continuación imprimimos los archivos de la ruta, separados por clases en diferentes vectores y sus respectivas longitudes. Deberiamos ser capaces de ver únicamente archivos con extensión **.wav**."
      ],
      "metadata": {
        "id": "5c4fwV4Aqkqk"
      }
    },
    {
      "cell_type": "code",
      "source": [
        "print(A_records)\n",
        "print('número de muestras de la clase A:', len(A_records))\n",
        "print(E_records)\n",
        "print('número de muestras de la clase E:', len(E_records))\n",
        "print(I_records)\n",
        "print('número de muestras de la clase I:', len(I_records))\n",
        "print(O_records)\n",
        "print('número de muestras de la clase O:', len(O_records))\n",
        "print(U_records)\n",
        "print('número de muestras de la clase U:', len(U_records))"
      ],
      "metadata": {
        "colab": {
          "base_uri": "https://localhost:8080/"
        },
        "id": "73nqzCHPmkZ_",
        "outputId": "108fe7f2-c416-4954-a8c4-31f080f9e9ce"
      },
      "execution_count": 22,
      "outputs": [
        {
          "output_type": "stream",
          "name": "stdout",
          "text": [
            "['A_003.wav', 'A_002.wav', 'A_076.wav', 'A_082.wav', 'A_083.wav', 'A_085.wav', 'A_086.wav', 'A_084.wav', 'A_088.wav', 'A_075.wav', 'A_078.wav', 'A_94.wav', 'A_98.wav', 'A_080.wav', 'A_077.wav', 'A_99.wav', 'A_100.wav', 'A_005.wav', 'A_014.wav', 'A_020.wav', 'A_010.wav', 'A_013.wav', 'A_015.wav', 'A_018.wav', 'A_007.wav', 'A_008.wav', 'A_019.wav', 'A_022.wav', 'A_021.wav', 'A_017.wav', 'A_012.wav', 'A_009.wav', 'A_011.wav', 'A_004.wav', 'A_023.wav', 'A_006.wav', 'A_001.wav', 'A_016.wav', 'A_047.wav', 'A_056.wav', 'A_045.wav', 'A_053.wav', 'A_063.wav', 'A_028.wav', 'A_052.wav', 'A_034.wav', 'A_055.wav', 'A_054.wav', 'A_067.wav', 'A_038.wav', 'A_041.wav', 'A_058.wav', 'A_046.wav', 'A_029.wav', 'A_061.wav', 'A_048.wav', 'A_043.wav', 'A_070.wav', 'A_071.wav', 'A_026.wav', 'A_032.wav', 'A_024.wav', 'A_036.wav', 'A_025.wav', 'A_027.wav', 'A_069.wav', 'A_039.wav', 'A_064.wav', 'A_040.wav', 'A_060.wav', 'A_049.wav', 'A_037.wav', 'A_033.wav', 'A_066.wav', 'A_030.wav', 'A_042.wav', 'A_068.wav', 'A_035.wav', 'A_057.wav', 'A_031.wav', 'A_050.wav', 'A_065.wav', 'A_044.wav', 'A_062.wav', 'A_051.wav', 'A_059.wav']\n",
            "número de muestras de la clase A: 86\n",
            "['E_076.wav', 'E_82.wav', 'E_83.wav', 'E_84.wav', 'E_85.wav', 'E_86.wav', 'E_87.wav', 'E_075.wav', 'E_080.wav', 'E_077.wav', 'E_99.wav', 'E_100.wav', 'E_017.wav', 'E_013.wav', 'E_004.wav', 'E_010.wav', 'E_018.wav', 'E_019.wav', 'E_002.wav', 'E_012.wav', 'E_008.wav', 'E_016.wav', 'E_006.wav', 'E_005.wav', 'E_001.wav', 'E_014.wav', 'E_011.wav', 'E_015.wav', 'E_007.wav', 'E_020.wav', 'E_009.wav', 'E_056.wav', 'E_061.wav', 'E_021.wav', 'E_024.wav', 'E_051.wav', 'E_031.wav', 'E_038.wav', 'E_040.wav', 'E_046.wav', 'E_028.wav', 'E_069.wav', 'E_052.wav', 'E_054.wav', 'E_041.wav', 'E_025.wav', 'E_036.wav', 'E_044.wav', 'E_067.wav', 'E_023.wav', 'E_053.wav', 'E_026.wav', 'E_037.wav', 'E_057.wav', 'E_035.wav', 'E_065.wav', 'E_029.wav', 'E_039.wav', 'E_033.wav', 'E_030.wav', 'E_048.wav', 'E_058.wav', 'E_060.wav', 'E_047.wav', 'E_063.wav', 'E_064.wav', 'E_043.wav', 'E_055.wav', 'E_050.wav', 'E_062.wav', 'E_059.wav', 'E_068.wav', 'E_034.wav', 'E_066.wav', 'E_032.wav', 'E_042.wav', 'E_027.wav', 'E_045.wav', 'E_022.wav', 'E_049.wav', 'E_071.wav', 'E_070.wav']\n",
            "número de muestras de la clase E: 82\n",
            "['I_75.wav', 'I_87.wav', 'I_86.wav', 'I_85.wav', 'I_84.wav', 'I_83.wav', 'I_82.wav', 'I_76.wav', 'I_80.wav', 'I_77.wav', 'I_99.wav', 'I_100.wav', 'I_021.wav', 'I_026.wav', 'I_024.wav', 'I_012.wav', 'I_016.wav', 'I_047.wav', 'I_027.wav', 'I_030.wav', 'I_031.wav', 'I_017.wav', 'I_009.wav', 'I_018.wav', 'I_015.wav', 'I_020.wav', 'I_002.wav', 'I_041.wav', 'I_040.wav', 'I_043.wav', 'I_034.wav', 'I_048.wav', 'I_010.wav', 'I_033.wav', 'I_001.wav', 'I_028.wav', 'I_045.wav', 'I_035.wav', 'I_005.wav', 'I_050.wav', 'I_036.wav', 'I_046.wav', 'I_019.wav', 'I_004.wav', 'I_039.wav', 'I_014.wav', 'I_044.wav', 'I_038.wav', 'I_011.wav', 'I_032.wav', 'I_013.wav', 'I_022.wav', 'I_042.wav', 'I_008.wav', 'I_037.wav', 'I_023.wav', 'I_003.wav', 'I_029.wav', 'I_006.wav', 'I_025.wav', 'I_007.wav', 'I_067.wav', 'I_055.wav', 'I_054.wav', 'I_069.wav', 'I_059.wav', 'I_071.wav', 'I_063.wav', 'I_052.wav', 'I_066.wav', 'I_057.wav', 'I_061.wav', 'I_065.wav', 'I_058.wav', 'I_062.wav', 'I_056.wav', 'I_060.wav', 'I_068.wav', 'I_053.wav', 'I_070.wav', 'I_051.wav', 'I_064.wav']\n",
            "número de muestras de la clase I: 82\n",
            "['O_75.wav', 'O_87.wav', 'O_86.wav', 'O_85.wav', 'O_84.wav', 'O_83.wav', 'O_82.wav', 'O_76.wav', 'O_97.wav', 'O_80.wav', 'O_77.wav', 'O_99.wav', 'O_100.wav', 'O_017.wav', 'O_006.wav', 'O_022.wav', 'O_009.wav', 'O_018.wav', 'O_002.wav', 'O_026.wav', 'O_023.wav', 'O_004.wav', 'O_001.wav', 'O_012.wav', 'O_027.wav', 'O_020.wav', 'O_011.wav', 'O_021.wav', 'O_015.wav', 'O_010.wav', 'O_003.wav', 'O_005.wav', 'O_016.wav', 'O_007.wav', 'O_025.wav', 'O_008.wav', 'O_024.wav', 'O_019.wav', 'O_013.wav', 'O_031.wav', 'O_039.wav', 'O_066.wav', 'O_062.wav', 'O_067.wav', 'O_055.wav', 'O_042.wav', 'O_036.wav', 'O_050.wav', 'O_049.wav', 'O_044.wav', 'O_043.wav', 'O_063.wav', 'O_047.wav', 'O_054.wav', 'O_030.wav', 'O_059.wav', 'O_041.wav', 'O_064.wav', 'O_056.wav', 'O_040.wav', 'O_053.wav', 'O_048.wav', 'O_070.wav', 'O_065.wav', 'O_032.wav', 'O_060.wav', 'O_058.wav', 'O_035.wav', 'O_052.wav', 'O_068.wav', 'O_045.wav', 'O_033.wav', 'O_051.wav', 'O_069.wav', 'O_037.wav', 'O_061.wav', 'O_071.wav', 'O_046.wav', 'O_057.wav', 'O_029.wav', 'O_028.wav', 'O_034.wav', 'O_038.wav']\n",
            "número de muestras de la clase O: 83\n",
            "['U_76.wav', 'U_84.wav', 'U_83.wav', 'U_85.wav', 'U_86.wav', 'U_87.wav', 'U_88.wav', 'U_75.wav', 'U_81.wav', 'U_77.wav', 'U_100.wav', 'U_011.wav', 'U_003.wav', 'U_007.wav', 'U_002.wav', 'U_005.wav', 'U_009.wav', 'U_004.wav', 'U_001.wav', 'U_010.wav', 'U_008.wav', 'U_006.wav', 'U_060.wav', 'U_054.wav', 'U_047.wav', 'U_061.wav', 'U_019.wav', 'U_051.wav', 'U_018.wav', 'U_024.wav', 'U_041.wav', 'U_015.wav', 'U_027.wav', 'U_026.wav', 'U_059.wav', 'U_037.wav', 'U_056.wav', 'U_020.wav', 'U_044.wav', 'U_013.wav', 'U_022.wav', 'U_028.wav', 'U_040.wav', 'U_050.wav', 'U_021.wav', 'U_049.wav', 'U_055.wav', 'U_052.wav', 'U_017.wav', 'U_058.wav', 'U_014.wav', 'U_031.wav', 'U_057.wav', 'U_048.wav', 'U_034.wav', 'U_035.wav', 'U_030}.wav', 'U_045.wav', 'U_012.wav', 'U_053.wav', 'U_038.wav', 'U_029.wav', 'U_032.wav', 'U_033.wav', 'U_016.wav', 'U_042.wav', 'U_046.wav', 'U_043.wav', 'U_023.wav', 'U_036.wav', 'U_025.wav', 'U_039.wav', 'U_062.wav', 'U_068.wav', 'U_065.wav', 'U_067.wav', 'U_071.wav', 'U_069.wav', 'U_063.wav', 'U_064.wav', 'U_066.wav', 'U_070.wav']\n",
            "número de muestras de la clase U: 82\n"
          ]
        }
      ]
    },
    {
      "cell_type": "markdown",
      "source": [
        "Con todo lo que hemos hecho hasta ahora ya podemos acceder las notas de voz. Así que, ya podemos comenzar a visualizar los datos importados.\n",
        "\n",
        "Es importante tener en cuenta que los archivos con los que estamos trabajando son archivos **.wav**, en ese orden de ideas, conviene tener claro qué tipo de información un archivo **.wav** es capaz de proveer acerca de la señal."
      ],
      "metadata": {
        "id": "3QSotq9rmwUx"
      }
    },
    {
      "cell_type": "code",
      "source": [
        "wave = thinkdsp.read_wave(path_A+'/'+A_records[-50])\n",
        "spectrum = wave.make_spectrum()\n",
        "spectrum.plot()\n",
        "pyplot.show()"
      ],
      "metadata": {
        "colab": {
          "base_uri": "https://localhost:8080/",
          "height": 265
        },
        "id": "Ftn_ic-jpnml",
        "outputId": "de18db06-e90f-43b0-cde9-85e812e3674b"
      },
      "execution_count": 43,
      "outputs": [
        {
          "output_type": "display_data",
          "data": {
            "text/plain": [
              "<Figure size 432x288 with 1 Axes>"
            ],
            "image/png": "[encoded data removed]"
          },
          "metadata": {
            "needs_background": "light"
          }
        }
      ]
    },
    {
      "cell_type": "markdown",
      "source": [
        "#**Preprocesamiento de los datos**"
      ],
      "metadata": {
        "id": "rJRZL5ylZdKK"
      }
    }
  ]
}